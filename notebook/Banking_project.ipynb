{
 "cells": [
  {
   "cell_type": "code",
   "execution_count": 1,
   "id": "8ecc2fc0-b189-45d2-a217-220e7e1f0c0f",
   "metadata": {},
   "outputs": [],
   "source": [
    "import pandas as pd\n",
    "import numpy as np\n",
    "import matplotlib.pyplot as plt\n",
    "import seaborn as sns\n",
    "import datetime as dt"
   ]
  },
  {
   "cell_type": "code",
   "execution_count": 2,
   "id": "41fea10b-e967-45fd-8b86-482aabbbc9c1",
   "metadata": {},
   "outputs": [
    {
     "ename": "FileNotFoundError",
     "evalue": "[Errno 2] No such file or directory: 'data/bank_data_project.csv'",
     "output_type": "error",
     "traceback": [
      "\u001b[1;31m---------------------------------------------------------------------------\u001b[0m",
      "\u001b[1;31mFileNotFoundError\u001b[0m                         Traceback (most recent call last)",
      "Cell \u001b[1;32mIn[2], line 1\u001b[0m\n\u001b[1;32m----> 1\u001b[0m df \u001b[38;5;241m=\u001b[39mpd\u001b[38;5;241m.\u001b[39mread_csv(\u001b[38;5;124m\"\u001b[39m\u001b[38;5;124mdata/bank_data_project.csv\u001b[39m\u001b[38;5;124m\"\u001b[39m)\n",
      "File \u001b[1;32m~\\anaconda3\\Lib\\site-packages\\pandas\\io\\parsers\\readers.py:1026\u001b[0m, in \u001b[0;36mread_csv\u001b[1;34m(filepath_or_buffer, sep, delimiter, header, names, index_col, usecols, dtype, engine, converters, true_values, false_values, skipinitialspace, skiprows, skipfooter, nrows, na_values, keep_default_na, na_filter, verbose, skip_blank_lines, parse_dates, infer_datetime_format, keep_date_col, date_parser, date_format, dayfirst, cache_dates, iterator, chunksize, compression, thousands, decimal, lineterminator, quotechar, quoting, doublequote, escapechar, comment, encoding, encoding_errors, dialect, on_bad_lines, delim_whitespace, low_memory, memory_map, float_precision, storage_options, dtype_backend)\u001b[0m\n\u001b[0;32m   1013\u001b[0m kwds_defaults \u001b[38;5;241m=\u001b[39m _refine_defaults_read(\n\u001b[0;32m   1014\u001b[0m     dialect,\n\u001b[0;32m   1015\u001b[0m     delimiter,\n\u001b[1;32m   (...)\u001b[0m\n\u001b[0;32m   1022\u001b[0m     dtype_backend\u001b[38;5;241m=\u001b[39mdtype_backend,\n\u001b[0;32m   1023\u001b[0m )\n\u001b[0;32m   1024\u001b[0m kwds\u001b[38;5;241m.\u001b[39mupdate(kwds_defaults)\n\u001b[1;32m-> 1026\u001b[0m \u001b[38;5;28;01mreturn\u001b[39;00m _read(filepath_or_buffer, kwds)\n",
      "File \u001b[1;32m~\\anaconda3\\Lib\\site-packages\\pandas\\io\\parsers\\readers.py:620\u001b[0m, in \u001b[0;36m_read\u001b[1;34m(filepath_or_buffer, kwds)\u001b[0m\n\u001b[0;32m    617\u001b[0m _validate_names(kwds\u001b[38;5;241m.\u001b[39mget(\u001b[38;5;124m\"\u001b[39m\u001b[38;5;124mnames\u001b[39m\u001b[38;5;124m\"\u001b[39m, \u001b[38;5;28;01mNone\u001b[39;00m))\n\u001b[0;32m    619\u001b[0m \u001b[38;5;66;03m# Create the parser.\u001b[39;00m\n\u001b[1;32m--> 620\u001b[0m parser \u001b[38;5;241m=\u001b[39m TextFileReader(filepath_or_buffer, \u001b[38;5;241m*\u001b[39m\u001b[38;5;241m*\u001b[39mkwds)\n\u001b[0;32m    622\u001b[0m \u001b[38;5;28;01mif\u001b[39;00m chunksize \u001b[38;5;129;01mor\u001b[39;00m iterator:\n\u001b[0;32m    623\u001b[0m     \u001b[38;5;28;01mreturn\u001b[39;00m parser\n",
      "File \u001b[1;32m~\\anaconda3\\Lib\\site-packages\\pandas\\io\\parsers\\readers.py:1620\u001b[0m, in \u001b[0;36mTextFileReader.__init__\u001b[1;34m(self, f, engine, **kwds)\u001b[0m\n\u001b[0;32m   1617\u001b[0m     \u001b[38;5;28mself\u001b[39m\u001b[38;5;241m.\u001b[39moptions[\u001b[38;5;124m\"\u001b[39m\u001b[38;5;124mhas_index_names\u001b[39m\u001b[38;5;124m\"\u001b[39m] \u001b[38;5;241m=\u001b[39m kwds[\u001b[38;5;124m\"\u001b[39m\u001b[38;5;124mhas_index_names\u001b[39m\u001b[38;5;124m\"\u001b[39m]\n\u001b[0;32m   1619\u001b[0m \u001b[38;5;28mself\u001b[39m\u001b[38;5;241m.\u001b[39mhandles: IOHandles \u001b[38;5;241m|\u001b[39m \u001b[38;5;28;01mNone\u001b[39;00m \u001b[38;5;241m=\u001b[39m \u001b[38;5;28;01mNone\u001b[39;00m\n\u001b[1;32m-> 1620\u001b[0m \u001b[38;5;28mself\u001b[39m\u001b[38;5;241m.\u001b[39m_engine \u001b[38;5;241m=\u001b[39m \u001b[38;5;28mself\u001b[39m\u001b[38;5;241m.\u001b[39m_make_engine(f, \u001b[38;5;28mself\u001b[39m\u001b[38;5;241m.\u001b[39mengine)\n",
      "File \u001b[1;32m~\\anaconda3\\Lib\\site-packages\\pandas\\io\\parsers\\readers.py:1880\u001b[0m, in \u001b[0;36mTextFileReader._make_engine\u001b[1;34m(self, f, engine)\u001b[0m\n\u001b[0;32m   1878\u001b[0m     \u001b[38;5;28;01mif\u001b[39;00m \u001b[38;5;124m\"\u001b[39m\u001b[38;5;124mb\u001b[39m\u001b[38;5;124m\"\u001b[39m \u001b[38;5;129;01mnot\u001b[39;00m \u001b[38;5;129;01min\u001b[39;00m mode:\n\u001b[0;32m   1879\u001b[0m         mode \u001b[38;5;241m+\u001b[39m\u001b[38;5;241m=\u001b[39m \u001b[38;5;124m\"\u001b[39m\u001b[38;5;124mb\u001b[39m\u001b[38;5;124m\"\u001b[39m\n\u001b[1;32m-> 1880\u001b[0m \u001b[38;5;28mself\u001b[39m\u001b[38;5;241m.\u001b[39mhandles \u001b[38;5;241m=\u001b[39m get_handle(\n\u001b[0;32m   1881\u001b[0m     f,\n\u001b[0;32m   1882\u001b[0m     mode,\n\u001b[0;32m   1883\u001b[0m     encoding\u001b[38;5;241m=\u001b[39m\u001b[38;5;28mself\u001b[39m\u001b[38;5;241m.\u001b[39moptions\u001b[38;5;241m.\u001b[39mget(\u001b[38;5;124m\"\u001b[39m\u001b[38;5;124mencoding\u001b[39m\u001b[38;5;124m\"\u001b[39m, \u001b[38;5;28;01mNone\u001b[39;00m),\n\u001b[0;32m   1884\u001b[0m     compression\u001b[38;5;241m=\u001b[39m\u001b[38;5;28mself\u001b[39m\u001b[38;5;241m.\u001b[39moptions\u001b[38;5;241m.\u001b[39mget(\u001b[38;5;124m\"\u001b[39m\u001b[38;5;124mcompression\u001b[39m\u001b[38;5;124m\"\u001b[39m, \u001b[38;5;28;01mNone\u001b[39;00m),\n\u001b[0;32m   1885\u001b[0m     memory_map\u001b[38;5;241m=\u001b[39m\u001b[38;5;28mself\u001b[39m\u001b[38;5;241m.\u001b[39moptions\u001b[38;5;241m.\u001b[39mget(\u001b[38;5;124m\"\u001b[39m\u001b[38;5;124mmemory_map\u001b[39m\u001b[38;5;124m\"\u001b[39m, \u001b[38;5;28;01mFalse\u001b[39;00m),\n\u001b[0;32m   1886\u001b[0m     is_text\u001b[38;5;241m=\u001b[39mis_text,\n\u001b[0;32m   1887\u001b[0m     errors\u001b[38;5;241m=\u001b[39m\u001b[38;5;28mself\u001b[39m\u001b[38;5;241m.\u001b[39moptions\u001b[38;5;241m.\u001b[39mget(\u001b[38;5;124m\"\u001b[39m\u001b[38;5;124mencoding_errors\u001b[39m\u001b[38;5;124m\"\u001b[39m, \u001b[38;5;124m\"\u001b[39m\u001b[38;5;124mstrict\u001b[39m\u001b[38;5;124m\"\u001b[39m),\n\u001b[0;32m   1888\u001b[0m     storage_options\u001b[38;5;241m=\u001b[39m\u001b[38;5;28mself\u001b[39m\u001b[38;5;241m.\u001b[39moptions\u001b[38;5;241m.\u001b[39mget(\u001b[38;5;124m\"\u001b[39m\u001b[38;5;124mstorage_options\u001b[39m\u001b[38;5;124m\"\u001b[39m, \u001b[38;5;28;01mNone\u001b[39;00m),\n\u001b[0;32m   1889\u001b[0m )\n\u001b[0;32m   1890\u001b[0m \u001b[38;5;28;01massert\u001b[39;00m \u001b[38;5;28mself\u001b[39m\u001b[38;5;241m.\u001b[39mhandles \u001b[38;5;129;01mis\u001b[39;00m \u001b[38;5;129;01mnot\u001b[39;00m \u001b[38;5;28;01mNone\u001b[39;00m\n\u001b[0;32m   1891\u001b[0m f \u001b[38;5;241m=\u001b[39m \u001b[38;5;28mself\u001b[39m\u001b[38;5;241m.\u001b[39mhandles\u001b[38;5;241m.\u001b[39mhandle\n",
      "File \u001b[1;32m~\\anaconda3\\Lib\\site-packages\\pandas\\io\\common.py:873\u001b[0m, in \u001b[0;36mget_handle\u001b[1;34m(path_or_buf, mode, encoding, compression, memory_map, is_text, errors, storage_options)\u001b[0m\n\u001b[0;32m    868\u001b[0m \u001b[38;5;28;01melif\u001b[39;00m \u001b[38;5;28misinstance\u001b[39m(handle, \u001b[38;5;28mstr\u001b[39m):\n\u001b[0;32m    869\u001b[0m     \u001b[38;5;66;03m# Check whether the filename is to be opened in binary mode.\u001b[39;00m\n\u001b[0;32m    870\u001b[0m     \u001b[38;5;66;03m# Binary mode does not support 'encoding' and 'newline'.\u001b[39;00m\n\u001b[0;32m    871\u001b[0m     \u001b[38;5;28;01mif\u001b[39;00m ioargs\u001b[38;5;241m.\u001b[39mencoding \u001b[38;5;129;01mand\u001b[39;00m \u001b[38;5;124m\"\u001b[39m\u001b[38;5;124mb\u001b[39m\u001b[38;5;124m\"\u001b[39m \u001b[38;5;129;01mnot\u001b[39;00m \u001b[38;5;129;01min\u001b[39;00m ioargs\u001b[38;5;241m.\u001b[39mmode:\n\u001b[0;32m    872\u001b[0m         \u001b[38;5;66;03m# Encoding\u001b[39;00m\n\u001b[1;32m--> 873\u001b[0m         handle \u001b[38;5;241m=\u001b[39m \u001b[38;5;28mopen\u001b[39m(\n\u001b[0;32m    874\u001b[0m             handle,\n\u001b[0;32m    875\u001b[0m             ioargs\u001b[38;5;241m.\u001b[39mmode,\n\u001b[0;32m    876\u001b[0m             encoding\u001b[38;5;241m=\u001b[39mioargs\u001b[38;5;241m.\u001b[39mencoding,\n\u001b[0;32m    877\u001b[0m             errors\u001b[38;5;241m=\u001b[39merrors,\n\u001b[0;32m    878\u001b[0m             newline\u001b[38;5;241m=\u001b[39m\u001b[38;5;124m\"\u001b[39m\u001b[38;5;124m\"\u001b[39m,\n\u001b[0;32m    879\u001b[0m         )\n\u001b[0;32m    880\u001b[0m     \u001b[38;5;28;01melse\u001b[39;00m:\n\u001b[0;32m    881\u001b[0m         \u001b[38;5;66;03m# Binary mode\u001b[39;00m\n\u001b[0;32m    882\u001b[0m         handle \u001b[38;5;241m=\u001b[39m \u001b[38;5;28mopen\u001b[39m(handle, ioargs\u001b[38;5;241m.\u001b[39mmode)\n",
      "\u001b[1;31mFileNotFoundError\u001b[0m: [Errno 2] No such file or directory: 'data/bank_data_project.csv'"
     ]
    }
   ],
   "source": [
    "df =pd.read_csv(\"data/bank_data_project.csv\")"
   ]
  },
  {
   "cell_type": "code",
   "execution_count": null,
   "id": "ff59b094-7e4f-4194-886d-37f8b661b5f5",
   "metadata": {},
   "outputs": [],
   "source": [
    "df.head()"
   ]
  },
  {
   "cell_type": "code",
   "execution_count": null,
   "id": "ecb7c9eb-184c-48d4-b399-63c1aa636ca4",
   "metadata": {},
   "outputs": [],
   "source": [
    "# Convert to datetime if needed\n",
    "df[\"TransactionDate\"] = pd.to_datetime(df[\"TransactionDate\"], errors='coerce')\n",
    "unique_dates = df[\"TransactionDate\"].unique()\n",
    "print(unique_dates)"
   ]
  },
  {
   "cell_type": "code",
   "execution_count": null,
   "id": "a798483b-bda7-45bb-a775-5e31db39a578",
   "metadata": {},
   "outputs": [],
   "source": [
    "# Convert to datetime if needed\n",
    "df[\"CustomerDOB\"] = pd.to_datetime(df[\"CustomerDOB\"], errors='coerce')\n",
    "unique_dates = df[\"CustomerDOB\"].unique()\n",
    "print(unique_dates)"
   ]
  },
  {
   "cell_type": "code",
   "execution_count": null,
   "id": "735b45f1-f3ba-442d-b010-f14b6eafb20d",
   "metadata": {},
   "outputs": [],
   "source": [
    " #Check for invalid dates (NaT values)\n",
    "invalid_dates = df[df[\"CustomerDOB\"].isna()]\n",
    "print(f\"Number of invalid dates: {len(invalid_dates)}\")\n",
    "print(\"Invalid entries:\")\n",
    "print(invalid_dates)"
   ]
  },
  {
   "cell_type": "code",
   "execution_count": null,
   "id": "7c83047e-dd33-488b-8c95-1ae82d1f5370",
   "metadata": {},
   "outputs": [],
   "source": [
    "# Count NaT values\n",
    "nat_count = df[\"CustomerDOB\"].isna().sum()\n",
    "total_count = len(df)\n",
    "print(f\"Invalid dates (NaT): {nat_count}\")\n",
    "print(f\"Total rows: {total_count}\")\n",
    "print(f\"Percentage invalid: {(nat_count/total_count)*100:.2f}%\")"
   ]
  },
  {
   "cell_type": "code",
   "execution_count": null,
   "id": "ffae3529-aac6-47ac-a48c-61b7f768a38a",
   "metadata": {},
   "outputs": [],
   "source": [
    "# Check what the original date values actually look like\n",
    "print(\"Sample of original CustomerDOB values that became NaT:\")\n",
    "original_dob_sample = df.loc[df[\"CustomerDOB\"].isna(), \"CustomerDOB\"].head(20)\n",
    "print(original_dob_sample.tolist())\n",
    "\n",
    "# Or if you have the original data before conversion, check that"
   ]
  },
  {
   "cell_type": "code",
   "execution_count": null,
   "id": "a7f6605f-ecac-4067-952f-b208cf262f1c",
   "metadata": {},
   "outputs": [],
   "source": [
    "df[\"CustomerDOB\"] = df[\"CustomerDOB\"].bfill()"
   ]
  },
  {
   "cell_type": "code",
   "execution_count": null,
   "id": "e7d32e76-6f1b-427f-8414-e50b62c6208c",
   "metadata": {},
   "outputs": [],
   "source": [
    "# Convert to datetime if needed\n",
    "df[\"CustomerDOB\"] = pd.to_datetime(df[\"CustomerDOB\"], errors='coerce')\n",
    "unique_dates = df[\"CustomerDOB\"].unique()\n",
    "print(unique_dates)"
   ]
  },
  {
   "cell_type": "code",
   "execution_count": null,
   "id": "e7d924eb-863a-44b2-9362-9aabdf5c9634",
   "metadata": {},
   "outputs": [],
   "source": [
    "# Convert to datetime \n",
    "print(df[\"CustomerDOB\"])\n",
    "\n"
   ]
  },
  {
   "cell_type": "code",
   "execution_count": null,
   "id": "7015a3bc-9b98-4661-8c9d-16121876dd75",
   "metadata": {},
   "outputs": [],
   "source": [
    "# Count NaT values\n",
    "nat_count = df[\"CustomerDOB\"].isna().sum()\n",
    "total_count = len(df)\n",
    "print(f\"Invalid dates (NaT): {nat_count}\")\n",
    "print(f\"Total rows: {total_count}\")\n",
    "print(f\"Percentage invalid: {(nat_count/total_count)*100:.2f}%\")"
   ]
  },
  {
   "cell_type": "code",
   "execution_count": null,
   "id": "4a236899-e690-41c2-8120-8dfb1ba911fe",
   "metadata": {},
   "outputs": [],
   "source": [
    "df.head()"
   ]
  },
  {
   "cell_type": "code",
   "execution_count": null,
   "id": "45325eaa-ffd2-4463-8006-268ef80a4743",
   "metadata": {},
   "outputs": [],
   "source": [
    "df.describe()"
   ]
  },
  {
   "cell_type": "code",
   "execution_count": null,
   "id": "7afdcd46-501a-4281-9bc1-13f3102726be",
   "metadata": {},
   "outputs": [],
   "source": [
    "print(df['CustomerDOB'])"
   ]
  },
  {
   "cell_type": "code",
   "execution_count": null,
   "id": "94539f41-1dbc-4c6a-a386-80f2f478a8c5",
   "metadata": {},
   "outputs": [],
   "source": [
    "print(df[\"CustomerDOB\"].head(30).tolist())"
   ]
  },
  {
   "cell_type": "code",
   "execution_count": null,
   "id": "9af877b1-f4db-40d4-aebf-a2eb6fdd55b8",
   "metadata": {},
   "outputs": [],
   "source": [
    "df[df[\"CustomerDOB\"].dt.year == 1800]\n"
   ]
  },
  {
   "cell_type": "code",
   "execution_count": null,
   "id": "9db2ee2a-070b-4632-93a1-2d4836db3c30",
   "metadata": {},
   "outputs": [],
   "source": [
    "df[df['CustomerDOB'].dt.year == 1800].shape\n"
   ]
  },
  {
   "cell_type": "code",
   "execution_count": null,
   "id": "69484706-6d2c-4fc8-834f-de5721f67073",
   "metadata": {},
   "outputs": [],
   "source": [
    "df.loc[df['CustomerDOB'].dt.year == 1800, 'CustomerDOB'] = pd.Timestamp('2020-01-01')\n"
   ]
  },
  {
   "cell_type": "code",
   "execution_count": null,
   "id": "57c3ae80-371d-41b1-9239-7352b51a2abf",
   "metadata": {},
   "outputs": [],
   "source": [
    "df['TransactionDate'].isnull().sum()"
   ]
  },
  {
   "cell_type": "code",
   "execution_count": null,
   "id": "f5d2e25b-eedf-4ae0-97af-14e8977e7160",
   "metadata": {},
   "outputs": [],
   "source": [
    "df['CustomerDOB'].head(30)"
   ]
  },
  {
   "cell_type": "code",
   "execution_count": null,
   "id": "33278501-a668-4e91-8adf-1d6b250f68f6",
   "metadata": {
    "scrolled": true
   },
   "outputs": [],
   "source": [
    "df.describe()"
   ]
  },
  {
   "cell_type": "code",
   "execution_count": null,
   "id": "0c346d01-237b-46fd-a2fd-4f2be1be8e78",
   "metadata": {},
   "outputs": [],
   "source": [
    "df.head()"
   ]
  },
  {
   "cell_type": "code",
   "execution_count": null,
   "id": "df3ee0f9-bc7f-4f90-9e51-3fb903faeb24",
   "metadata": {},
   "outputs": [],
   "source": [
    "import os\n",
    "from datetime import datetime\n",
    "\n",
    "# 1️⃣ Define folder name\n",
    "output_folder = \"../output\"\n",
    "\n",
    "# 2️⃣ Create folder if it doesn't exist\n",
    "if not os.path.exists(output_folder):\n",
    "    os.makedirs(output_folder)\n",
    "    print(f\"📁 Created new folder: {output_folder}\")\n",
    "else:\n",
    "    print(f\"📂 Folder already exists: {output_folder}\")\n",
    "\n",
    "# 3️⃣ Create timestamp for file naming\n",
    "timestamp = datetime.now().strftime(\"%Y-%m-%d_%H%M\")\n",
    "filename = f\"cleaned_data_{timestamp}.csv\"\n",
    "\n",
    "# 4️⃣ Build absolute path (prevents OSError)\n",
    "output_path = os.path.abspath(os.path.join(output_folder, filename))\n",
    "\n",
    "# 5️⃣ Print the exact path (for verification)\n",
    "print(f\"🔍 Saving file to: {output_path}\")\n",
    "\n",
    "# 6️⃣ Save dataframe safely\n",
    "df.to_csv(output_path, index=False)\n",
    "\n",
    "print(f\"✅ Cleaned data saved successfully at: {output_path}\")\n"
   ]
  },
  {
   "cell_type": "code",
   "execution_count": null,
   "id": "5011328e-30d4-4724-b67b-3edf918758cc",
   "metadata": {},
   "outputs": [],
   "source": [
    "\n",
    "print(\"Current working directory:\", os.getcwd())\n"
   ]
  },
  {
   "cell_type": "markdown",
   "id": "2edeab8b-16d3-4a96-9f84-64474d6b6ed4",
   "metadata": {},
   "source": [
    "## 🧠 Exploratory Data Analysis (EDA)\n",
    "\n",
    "Exploratory Data Analysis (EDA) is the process of examining and understanding a dataset before performing any modelling or prediction.  \n",
    "It helps to identify **patterns, trends, relationships, and potential data quality issues** such as missing values or outliers.\n",
    "\n",
    "### 🎯 Objectives of EDA\n",
    "1. Understand the **structure and summary** of the data (data types, counts, and statistics).  \n",
    "2. Detect **missing values**, duplicates, and outliers.  \n",
    "3. Explore **distributions** of numerical and categorical features.  \n",
    "4. Identify **relationships** between variables using correlation and visual plots.  \n",
    "5. Generate **insights** to guide data cleaning, transformation, and model selection.\n",
    "## Outlier Detection\n",
    "\n",
    "Outliers are data points that deviate significantly from the majority of the dataset.  \n",
    "They can result from data entry errors, unusual customer behaviour, or rare events.  \n",
    "Detecting outliers helps improve the accuracy of analysis and prevents models from being skewed.\n",
    "\n",
    "In this step, boxplots are used to visualize potential outliers in numerical features  \n",
    "such as Transaction Amount and Customer Account Balance.\n",
    "\n",
    "- Histograms, boxplots, and countplots → Visualize distributions  \n",
    "- Scatter plots and heatmaps → Explore relationships and correlations  \n",
    "\n",
    "### ✅ Outcome\n",
    "EDA provides a clear understanding of data behaviour, quality, and key features that influence further analysis or machine learning tasks.\n"
   ]
  },
  {
   "cell_type": "code",
   "execution_count": null,
   "id": "4e4cc22d-da79-4f16-b053-2021f63d835e",
   "metadata": {},
   "outputs": [],
   "source": [
    "# Load the cleaned CSV file\n",
    "df = pd.read_csv(\"../output/cleaned_data_2025-10-16_1230.csv\")\n",
    "\n",
    "# View first few rows\n",
    "df.head()"
   ]
  },
  {
   "cell_type": "code",
   "execution_count": null,
   "id": "6a97d9db-626b-4930-b035-99dd82e495de",
   "metadata": {},
   "outputs": [],
   "source": [
    "\n",
    "df.info()\n",
    "df.describe()\n",
    "df.isna().sum()"
   ]
  },
  {
   "cell_type": "markdown",
   "id": "7ffe565a-377a-46c2-8f91-bb136b42d954",
   "metadata": {},
   "source": [
    "## Data Summary Insights\n",
    "\n",
    "- The dataset contains 1,041,614 transactions across 9 columns.\n",
    "- Most fields are complete, except `TransactionDate`, which has approximately 48% missing values.\n",
    "- Numerical variables include:\n",
    "  - `CustAccountBalance` (float64)\n",
    "  - `TransactionAmount (INR)` (float64)\n",
    "  - `TransactionTime` (int64)\n",
    "- Categorical features include:\n",
    "  - `CustGender`, `CustLocation`, and ID-related columns.\n",
    "- No duplicate column names or incorrect data types were detected, making the dataset suitable for further exploration and visualization.\n"
   ]
  },
  {
   "cell_type": "markdown",
   "id": "a384800b-6739-4e95-89d5-96a4f5646ba5",
   "metadata": {},
   "source": [
    "## chExploratory Data Analysis (EDA) Visualizations\n",
    "\n",
    "This section explores key patterns and relationships within the cleaned dataset.  \n",
    "The goal is to understand the distribution of customer balances and transaction amounts,  \n",
    "identify outliers, and observe any visible trends across gender and locations.\n"
   ]
  },
  {
   "cell_type": "code",
   "execution_count": null,
   "id": "4ded4eb1-89f3-43ee-aafa-73c32f18aecb",
   "metadata": {},
   "outputs": [],
   "source": [
    "num_cols = df.select_dtypes(include=['float64', 'int64']).columns\n"
   ]
  },
  {
   "cell_type": "code",
   "execution_count": null,
   "id": "1bb33cad-6b1e-4ed4-9331-b9a2f56f4ec2",
   "metadata": {},
   "outputs": [],
   "source": [
    " # Set number of rows and columns (you can change these)\n",
    "nrows = 2\n",
    "ncols = 2\n",
    "\n",
    "# Create the figure\n",
    "fig, axes = plt.subplots(nrows=nrows, ncols=ncols, figsize=(12, 8))\n",
    "\n",
    "# Flatten axes to make looping easier\n",
    "axes = axes.flatten()\n",
    "\n",
    "# Loop through columns and plot\n",
    "for i, col in enumerate(num_cols):\n",
    "    sns.histplot(df[col], kde=True, bins=30, ax=axes[i])\n",
    "    axes[i].set_title(f\"Distribution of {col}\")\n",
    "\n",
    "# Hide any empty subplots (if number of plots < nrows*ncols)\n",
    "for j in range(i + 1, nrows * ncols):\n",
    "    fig.delaxes(axes[j])\n",
    "\n",
    "plt.tight_layout()\n",
    "plt.show()\n",
    "\n",
    "\n",
    "\n",
    "\n",
    "\n",
    "\n"
   ]
  },
  {
   "cell_type": "markdown",
   "id": "632485f9-7f7e-43a1-af94-9ae90e11619f",
   "metadata": {},
   "source": [
    "\n",
    "plt.subplots(nrows, ncols) gives you a grid of plots you can control.\n",
    "\n",
    "axes.flatten() lets you easily iterate through them in a loop.\n",
    "\n",
    "If you have fewer plots than spaces in the grid, the empty ones are automatically removed.\n",
    "\n",
    "You can freely adjust nrows and ncols — e.g., (nrows=1, ncols=3) if you want them all side-by-side.\n",
    "\n",
    "\n",
    "\n"
   ]
  },
  {
   "cell_type": "code",
   "execution_count": null,
   "id": "444b49c6-f516-4b35-b460-18307738d938",
   "metadata": {},
   "outputs": [],
   "source": [
    "# Flatten the axes to loop easily\n",
    "# Create subplots grid\n",
    "fig, axes = plt.subplots(nrows=nrows, ncols=ncols, figsize=(12, 8))\n",
    "\n",
    "axes = axes.flatten()\n",
    "\n",
    "# Plot each numerical column\n",
    "for idx, col in enumerate(num_cols):\n",
    "    sns.boxplot(y=df[col], data=df, ax=axes[idx])\n",
    "    axes[idx].set_title(f\"Outliers in {col}\")\n",
    "\n",
    "\n",
    "\n",
    "plt.tight_layout()\n",
    "plt.show()\n"
   ]
  },
  {
   "cell_type": "code",
   "execution_count": null,
   "id": "e11e7c07-6f46-48a7-a9e1-efc057100b2a",
   "metadata": {},
   "outputs": [],
   "source": [
    "\n",
    "\n",
    "# Function to remove outliers using IQR method\n",
    "def remove_outliers_iqr(data, column):\n",
    "    Q1 = data[column].quantile(0.25)\n",
    "    Q3 = data[column].quantile(0.75)\n",
    "    IQR = Q3 - Q1\n",
    "    lower_bound = Q1 - 1.5 * IQR\n",
    "    upper_bound = Q3 + 1.5 * IQR\n",
    "    \n",
    "    before = data.shape[0]\n",
    "    data = data[(data[column] >= lower_bound) & (data[column] <= upper_bound)]\n",
    "    after = data.shape[0]\n",
    "    \n",
    "    print(f\"{column}: Removed {before - after} outliers ({(before - after) / before:.2%})\")\n",
    "    return data\n",
    "\n",
    "# Apply IQR method to key numeric columns\n",
    "clean_df = df.copy()\n",
    "clean_df = remove_outliers_iqr(clean_df, 'CustAccountBalance')\n",
    "clean_df = remove_outliers_iqr(clean_df, 'TransactionAmount (INR)')\n",
    "\n",
    "# Verify new shape\n",
    "print(\"\\nNew dataset shape:\", clean_df.shape)\n"
   ]
  },
  {
   "cell_type": "code",
   "execution_count": null,
   "id": "7ee39fb6-7626-4581-90b4-210f91e2c7d3",
   "metadata": {},
   "outputs": [],
   "source": [
    "vis_folder = \"../visualization\"\n"
   ]
  },
  {
   "cell_type": "code",
   "execution_count": null,
   "id": "30f32dc4-e3db-4ff3-a006-5719029c137b",
   "metadata": {},
   "outputs": [],
   "source": [
    "import matplotlib.pyplot as plt\n",
    "import seaborn as sns\n",
    "import os\n",
    "\n",
    "# Ensure folder path is correct\n",
    "vis_folder = \"../visualization\"\n",
    "os.makedirs(vis_folder, exist_ok=True)\n",
    "\n",
    "plt.figure(figsize=(8, 6))\n",
    "\n",
    "# Scatter points\n",
    "sns.scatterplot(\n",
    "    x='CustAccountBalance',\n",
    "    y='TransactionAmount (INR)',\n",
    "    data=df,\n",
    "    alpha=0.5,\n",
    "    color='blue'\n",
    ")\n",
    "\n",
    "# Add regression line (on same figure)\n",
    "sns.regplot(\n",
    "    x='CustAccountBalance',\n",
    "    y='TransactionAmount (INR)',\n",
    "    data=df,\n",
    "    scatter=False,\n",
    "    color='red'\n",
    ")\n",
    "\n",
    "plt.title(\"Relationship Between Account Balance and Transaction Amount\")\n",
    "plt.xlabel(\"Customer Account Balance\")\n",
    "plt.ylabel(\"Transaction Amount (INR)\")\n",
    "plt.tight_layout()\n",
    "\n",
    "# Save and show\n",
    "plt.savefig(os.path.join(vis_folder, \"balance_vs_transaction.png\"))\n",
    "plt.show()\n",
    "\n",
    "print(\"✅ Saved: balance_vs_transaction.png\")\n"
   ]
  },
  {
   "cell_type": "markdown",
   "id": "3a9cad81-8cf9-4220-8b99-ad9662a86997",
   "metadata": {},
   "source": [
    "### Relationship Between Account Balance and Transaction Amount\n",
    "\n",
    "The scatter plot shows that customers with higher account balances \n",
    "tend to make higher transaction amounts.  \n",
    "The positive trend line indicates a weak but noticeable correlation between the two variables.\n"
   ]
  },
  {
   "cell_type": "code",
   "execution_count": null,
   "id": "e3317d33-76d0-4011-932d-8adc832d4d2b",
   "metadata": {},
   "outputs": [],
   "source": [
    "import os\n",
    "import matplotlib.pyplot as plt\n",
    "import seaborn as sns\n",
    "\n",
    "# Create folder if missing\n",
    "vis_folder = \"../visualization\"\n",
    "os.makedirs(vis_folder, exist_ok=True)\n",
    "print(f\"📁 Visualization folder ready: {vis_folder}\")\n"
   ]
  },
  {
   "cell_type": "code",
   "execution_count": null,
   "id": "b061bd21-50c0-4bce-a8aa-a06f9747e07c",
   "metadata": {},
   "outputs": [],
   "source": [
    "plt.figure(figsize=(8,6))\n",
    "sns.heatmap(df.corr(numeric_only=True), annot=True, cmap=\"coolwarm\", linewidths=0.5)\n",
    "plt.title(\"Correlation Heatmap of Numerical Features\")\n",
    "plt.tight_layout()\n",
    "plt.savefig(os.path.join(vis_folder, \"correlation_heatmap.png\"))\n",
    "plt.show()\n",
    "print(\"✅ Saved: correlation_heatmap.png\")\n"
   ]
  },
  {
   "cell_type": "code",
   "execution_count": null,
   "id": "d4599fb9-2a6a-446d-b09d-1a7b455e1553",
   "metadata": {},
   "outputs": [],
   "source": [
    "plt.figure(figsize=(6,5))\n",
    "sns.barplot(x='CustGender', y='TransactionAmount (INR)', data=df, estimator='mean')\n",
    "plt.title(\"Average Transaction Amount by Gender\")\n",
    "plt.tight_layout()\n",
    "plt.savefig(os.path.join(vis_folder, \"avg_transaction_by_gender.png\"))\n",
    "plt.show()\n",
    "print(\"✅ Saved: avg_transaction_by_gender.png\")\n"
   ]
  },
  {
   "cell_type": "code",
   "execution_count": null,
   "id": "6f5043b8-e0e3-4d9c-b176-8b75c48fb78f",
   "metadata": {},
   "outputs": [],
   "source": [
    "top10 = df.groupby('CustLocation')['TransactionAmount (INR)'].mean().sort_values(ascending=False).head(10)\n",
    "\n",
    "plt.figure(figsize=(10,6))\n",
    "sns.barplot(x=top10.index, y=top10.values, palette='cool')\n",
    "plt.xticks(rotation=45)\n",
    "plt.title(\"Top 10 Locations by Average Transaction Amount\")\n",
    "plt.ylabel(\"Average Transaction (INR)\")\n",
    "plt.tight_layout()\n",
    "plt.savefig(os.path.join(vis_folder, \"top10_locations_transaction.png\"))\n",
    "plt.show()\n",
    "print(\"✅ Saved: top10_locations_transaction.png\")\n"
   ]
  },
  {
   "cell_type": "code",
   "execution_count": null,
   "id": "198e2109-c940-46b9-80b1-80e003cb71a6",
   "metadata": {},
   "outputs": [],
   "source": [
    "gender_counts = df['CustGender'].value_counts()\n",
    "\n",
    "plt.figure(figsize=(6,6))\n",
    "plt.pie(gender_counts, labels=gender_counts.index, autopct='%1.1f%%', startangle=90, colors=sns.color_palette('Set2'))\n",
    "plt.title(\"Customer Gender Distribution\")\n",
    "plt.tight_layout()\n",
    "plt.savefig(os.path.join(vis_folder, \"gender_distribution.png\"))\n",
    "plt.show()\n",
    "print(\"✅ Saved: gender_distribution.png\")\n"
   ]
  },
  {
   "cell_type": "code",
   "execution_count": null,
   "id": "ee9bda61-3bcb-45e9-a8d5-18353bebde43",
   "metadata": {},
   "outputs": [],
   "source": [
    "plt.figure(figsize=(8,6))\n",
    "sns.histplot(df['TransactionAmount (INR)'], kde=True, bins=30, color='teal')\n",
    "plt.title(\"Distribution of Transaction Amounts\")\n",
    "plt.xlabel(\"Transaction Amount (INR)\")\n",
    "plt.tight_layout()\n",
    "plt.savefig(os.path.join(vis_folder, \"transaction_amount_distribution.png\"))\n",
    "plt.show()\n",
    "print(\"✅ Saved: transaction_amount_distribution.png\")\n"
   ]
  },
  {
   "cell_type": "code",
   "execution_count": null,
   "id": "183c590a-4cc0-4cf8-9cec-e5c31d1a5a95",
   "metadata": {},
   "outputs": [],
   "source": [
    "top10 = df.groupby('CustLocation')['TransactionAmount (INR)'].mean().sort_values(ascending=False).head(10)\n",
    "\n",
    "plt.figure(figsize=(10,6))\n",
    "sns.barplot(x=top10.index, y=top10.values)\n",
    "plt.xticks(rotation=45)\n",
    "plt.title(\"Top 10 Locations by Average Transaction Amount\")\n",
    "plt.ylabel(\"Average Transaction (INR)\")\n",
    "plt.tight_layout()\n",
    "plt.savefig(os.path.join(vis_folder, \"top10_locations_transaction.png\"))\n",
    "plt.show()\n",
    "print(\"✅ Saved: top10_locations_transaction.png\")\n"
   ]
  },
  {
   "cell_type": "code",
   "execution_count": null,
   "id": "fe5086f4-0df2-43ac-907e-07f269d24cc6",
   "metadata": {},
   "outputs": [],
   "source": [
    "import matplotlib.pyplot as plt\n",
    "import seaborn as sns\n",
    "\n",
    "num_cols = df.select_dtypes(include=['float64', 'int64']).columns\n",
    "\n",
    "# Histograms for all numerical columns\n",
    "fig, axes = plt.subplots(nrows=2, ncols=2, figsize=(12, 8))\n",
    "axes = axes.flatten()\n",
    "\n",
    "for i, col in enumerate(num_cols):\n",
    "    sns.histplot(df[col], kde=True, bins=30, ax=axes[i])\n",
    "    axes[i].set_title(f\"Distribution of {col}\")\n",
    "\n",
    "for j in range(i + 1, len(axes)):\n",
    "    fig.delaxes(axes[j])\n",
    "\n",
    "plt.tight_layout()\n",
    "plt.savefig(os.path.join(vis_folder, \"histograms.png\"))\n",
    "plt.show()\n",
    "print(\"✅ Saved: histograms.png\")\n"
   ]
  },
  {
   "cell_type": "code",
   "execution_count": null,
   "id": "a8ad6103-0758-485b-a25a-14b1c6285430",
   "metadata": {},
   "outputs": [],
   "source": [
    "fig, axes = plt.subplots(nrows=2, ncols=2, figsize=(12, 8))\n",
    "axes = axes.flatten()\n",
    "\n",
    "for i, col in enumerate(num_cols):\n",
    "    sns.boxplot(y=df[col], ax=axes[i])\n",
    "    axes[i].set_title(f\"Outliers in {col}\")\n",
    "\n",
    "for j in range(i + 1, len(axes)):\n",
    "    fig.delaxes(axes[j])\n",
    "\n",
    "plt.tight_layout()\n",
    "plt.savefig(os.path.join(vis_folder, \"boxplots.png\"))\n",
    "plt.show()\n",
    "print(\"✅ Saved: boxplots.png\")\n"
   ]
  },
  {
   "cell_type": "code",
   "execution_count": null,
   "id": "7dc61d81-28e3-4733-928b-a2551ba09fab",
   "metadata": {},
   "outputs": [],
   "source": [
    "plt.figure(figsize=(6, 5))\n",
    "sns.boxplot(x='CustGender', y='TransactionAmount (INR)', data=df)\n",
    "plt.title(\"Transaction Amount by Gender\")\n",
    "plt.tight_layout()\n",
    "plt.savefig(os.path.join(vis_folder, \"gender_vs_transaction.png\"))\n",
    "plt.show()\n",
    "print(\"✅ Saved: gender_vs_transaction.png\")\n"
   ]
  },
  {
   "cell_type": "code",
   "execution_count": null,
   "id": "9167d2e4-0749-43cf-8cf3-8ea4adeeba20",
   "metadata": {},
   "outputs": [],
   "source": [
    "plt.figure(figsize=(8, 6))\n",
    "sns.heatmap(df.corr(numeric_only=True), annot=True, cmap=\"coolwarm\", linewidths=0.5)\n",
    "plt.title(\"Correlation Heatmap of Numerical Features\")\n",
    "plt.tight_layout()\n",
    "plt.savefig(os.path.join(vis_folder, \"correlation_heatmap.png\"))\n",
    "plt.show()\n",
    "print(\"✅ Saved: correlation_heatmap.png\")\n"
   ]
  },
  {
   "cell_type": "code",
   "execution_count": null,
   "id": "8ed8df3a-0726-4a88-b9bd-38c49e1d9535",
   "metadata": {},
   "outputs": [],
   "source": [
    "plt.figure(figsize=(6, 5))\n",
    "sns.boxplot(x='CustGender', y='TransactionAmount (INR)', data=df)\n",
    "plt.title(\"Transaction Amount by Gender\")\n",
    "plt.tight_layout()\n",
    "plt.savefig(os.path.join(vis_folder, \"gender_vs_transaction.png\"))\n",
    "plt.show()\n",
    "print(\"✅ Saved: gender_vs_transaction.png\")\n"
   ]
  },
  {
   "cell_type": "code",
   "execution_count": null,
   "id": "300b4c4b-4b90-4b65-ad30-306fb17553e5",
   "metadata": {},
   "outputs": [],
   "source": [
    "plt.figure(figsize=(10, 6))\n",
    "top_locations = df['CustLocation'].value_counts().head(10).index\n",
    "sns.boxplot(x='CustLocation', y='TransactionAmount (INR)', data=df[df['CustLocation'].isin(top_locations)])\n",
    "plt.xticks(rotation=45)\n",
    "plt.title(\"Transaction Amount by Top 10 Locations\")\n",
    "plt.tight_layout()\n",
    "plt.savefig(os.path.join(vis_folder, \"location_vs_transaction.png\"))\n",
    "plt.show()\n",
    "print(\"✅ Saved: location_vs_transaction.png\")\n"
   ]
  },
  {
   "cell_type": "code",
   "execution_count": null,
   "id": "e84a2d3a-f060-49be-9fdf-a21a4375fde5",
   "metadata": {},
   "outputs": [],
   "source": [
    "plt.figure(figsize=(8,6))\n",
    "sns.histplot(df['TransactionAmount (INR)'], kde=True, bins=30, color='teal')\n",
    "plt.title(\"Distribution of Transaction Amounts\")\n",
    "plt.xlabel(\"Transaction Amount (INR)\")\n",
    "plt.tight_layout()\n",
    "plt.savefig(os.path.join(vis_folder, \"transaction_amount_distribution.png\"))\n",
    "plt.show()\n",
    "print(\"✅ Saved: transaction_amount_distribution.png\")\n"
   ]
  },
  {
   "cell_type": "code",
   "execution_count": null,
   "id": "e5552599-c5ef-4e41-993d-61371e516afd",
   "metadata": {},
   "outputs": [],
   "source": [
    "sns.pairplot(df.select_dtypes(include=['float64', 'int64']), diag_kind='kde', corner=True)\n",
    "plt.suptitle(\"Pairwise Relationships Between Numerical Variables\", y=1.02)\n",
    "plt.savefig(os.path.join(vis_folder, \"pairplot_numeric_relationships.png\"))\n",
    "plt.show()\n",
    "print(\"✅ Saved: pairplot_numeric_relationships.png\")\n"
   ]
  },
  {
   "cell_type": "code",
   "execution_count": null,
   "id": "937db198-f5fe-4682-9530-04b28b2cd29a",
   "metadata": {},
   "outputs": [],
   "source": [
    "print(df[])"
   ]
  },
  {
   "cell_type": "markdown",
   "id": "ed677333-d19d-4007-b61a-927febde12ff",
   "metadata": {},
   "source": [
    "## Visualization Summary\n",
    "\n",
    "All key data visualizations have been created and saved to the `visualization` folder, including:\n",
    "- Correlation heatmap  \n",
    "- Gender-based and location-based transaction patterns  \n",
    "- Distribution and boxplots  \n",
    "- Pie chart showing gender proportion  \n",
    "- Pairplot showing relationships between numerical features  \n",
    "\n",
    "These plots provide a comprehensive understanding of the dataset’s structure, \n",
    "trends, and relationships, supporting deeper business insights and model development.\n"
   ]
  },
  {
   "cell_type": "code",
   "execution_count": 4,
   "id": "574faa77-2b8a-46c3-9b5b-1020665e19ef",
   "metadata": {},
   "outputs": [
    {
     "data": {
      "text/html": [
       "<div>\n",
       "<style scoped>\n",
       "    .dataframe tbody tr th:only-of-type {\n",
       "        vertical-align: middle;\n",
       "    }\n",
       "\n",
       "    .dataframe tbody tr th {\n",
       "        vertical-align: top;\n",
       "    }\n",
       "\n",
       "    .dataframe thead th {\n",
       "        text-align: right;\n",
       "    }\n",
       "</style>\n",
       "<table border=\"1\" class=\"dataframe\">\n",
       "  <thead>\n",
       "    <tr style=\"text-align: right;\">\n",
       "      <th></th>\n",
       "      <th>TransactionID</th>\n",
       "      <th>CustomerID</th>\n",
       "      <th>CustomerDOB</th>\n",
       "      <th>CustGender</th>\n",
       "      <th>CustLocation</th>\n",
       "      <th>CustAccountBalance</th>\n",
       "      <th>TransactionDate</th>\n",
       "      <th>TransactionTime</th>\n",
       "      <th>TransactionAmount (INR)</th>\n",
       "    </tr>\n",
       "  </thead>\n",
       "  <tbody>\n",
       "    <tr>\n",
       "      <th>0</th>\n",
       "      <td>T1</td>\n",
       "      <td>C5841053</td>\n",
       "      <td>10/01/1994</td>\n",
       "      <td>F</td>\n",
       "      <td>JAMSHEDPUR</td>\n",
       "      <td>17819.05</td>\n",
       "      <td>2016-02-08</td>\n",
       "      <td>143207</td>\n",
       "      <td>25.0</td>\n",
       "    </tr>\n",
       "    <tr>\n",
       "      <th>1</th>\n",
       "      <td>T2</td>\n",
       "      <td>C2142763</td>\n",
       "      <td>04/04/1957</td>\n",
       "      <td>M</td>\n",
       "      <td>JHAJJAR</td>\n",
       "      <td>2270.69</td>\n",
       "      <td>2016-02-08</td>\n",
       "      <td>141858</td>\n",
       "      <td>27999.0</td>\n",
       "    </tr>\n",
       "    <tr>\n",
       "      <th>2</th>\n",
       "      <td>T3</td>\n",
       "      <td>C4417068</td>\n",
       "      <td>26/11/1996</td>\n",
       "      <td>F</td>\n",
       "      <td>MUMBAI</td>\n",
       "      <td>17874.44</td>\n",
       "      <td>2016-02-08</td>\n",
       "      <td>142712</td>\n",
       "      <td>459.0</td>\n",
       "    </tr>\n",
       "    <tr>\n",
       "      <th>3</th>\n",
       "      <td>T4</td>\n",
       "      <td>C5342380</td>\n",
       "      <td>14/09/1973</td>\n",
       "      <td>F</td>\n",
       "      <td>MUMBAI</td>\n",
       "      <td>866503.21</td>\n",
       "      <td>2016-02-08</td>\n",
       "      <td>142714</td>\n",
       "      <td>2060.0</td>\n",
       "    </tr>\n",
       "    <tr>\n",
       "      <th>4</th>\n",
       "      <td>T5</td>\n",
       "      <td>C9031234</td>\n",
       "      <td>24/03/1988</td>\n",
       "      <td>F</td>\n",
       "      <td>NAVI MUMBAI</td>\n",
       "      <td>6714.43</td>\n",
       "      <td>2016-02-08</td>\n",
       "      <td>181156</td>\n",
       "      <td>1762.5</td>\n",
       "    </tr>\n",
       "  </tbody>\n",
       "</table>\n",
       "</div>"
      ],
      "text/plain": [
       "  TransactionID CustomerID CustomerDOB CustGender CustLocation  \\\n",
       "0            T1   C5841053  10/01/1994          F   JAMSHEDPUR   \n",
       "1            T2   C2142763  04/04/1957          M      JHAJJAR   \n",
       "2            T3   C4417068  26/11/1996          F       MUMBAI   \n",
       "3            T4   C5342380  14/09/1973          F       MUMBAI   \n",
       "4            T5   C9031234  24/03/1988          F  NAVI MUMBAI   \n",
       "\n",
       "   CustAccountBalance TransactionDate  TransactionTime  \\\n",
       "0            17819.05      2016-02-08           143207   \n",
       "1             2270.69      2016-02-08           141858   \n",
       "2            17874.44      2016-02-08           142712   \n",
       "3           866503.21      2016-02-08           142714   \n",
       "4             6714.43      2016-02-08           181156   \n",
       "\n",
       "   TransactionAmount (INR)  \n",
       "0                     25.0  \n",
       "1                  27999.0  \n",
       "2                    459.0  \n",
       "3                   2060.0  \n",
       "4                   1762.5  "
      ]
     },
     "execution_count": 4,
     "metadata": {},
     "output_type": "execute_result"
    }
   ],
   "source": [
    "df = pd.read_csv(\"../output/cleaned_data_2025-10-16_1230.csv\", low_memory=False)\n",
    "\n",
    "\n",
    "# View first few rows\n",
    "df.head()"
   ]
  },
  {
   "cell_type": "code",
   "execution_count": 5,
   "id": "d0b035f2-5763-4362-b9b5-4a546ba731aa",
   "metadata": {},
   "outputs": [
    {
     "name": "stdout",
     "output_type": "stream",
     "text": [
      "['TransactionID', 'CustomerID', 'CustomerDOB', 'CustGender', 'CustLocation', 'CustAccountBalance', 'TransactionDate', 'TransactionTime', 'TransactionAmount (INR)']\n"
     ]
    }
   ],
   "source": [
    "print(df.columns.tolist())\n"
   ]
  },
  {
   "cell_type": "code",
   "execution_count": 6,
   "id": "afbdcafa-388a-48f9-a317-e6db3835e945",
   "metadata": {},
   "outputs": [
    {
     "data": {
      "text/html": [
       "<div>\n",
       "<style scoped>\n",
       "    .dataframe tbody tr th:only-of-type {\n",
       "        vertical-align: middle;\n",
       "    }\n",
       "\n",
       "    .dataframe tbody tr th {\n",
       "        vertical-align: top;\n",
       "    }\n",
       "\n",
       "    .dataframe thead th {\n",
       "        text-align: right;\n",
       "    }\n",
       "</style>\n",
       "<table border=\"1\" class=\"dataframe\">\n",
       "  <thead>\n",
       "    <tr style=\"text-align: right;\">\n",
       "      <th></th>\n",
       "      <th>CustomerID</th>\n",
       "      <th>Recency</th>\n",
       "      <th>Frequency</th>\n",
       "      <th>Monetary</th>\n",
       "    </tr>\n",
       "  </thead>\n",
       "  <tbody>\n",
       "    <tr>\n",
       "      <th>0</th>\n",
       "      <td>C1010011</td>\n",
       "      <td>93</td>\n",
       "      <td>1</td>\n",
       "      <td>356.0</td>\n",
       "    </tr>\n",
       "    <tr>\n",
       "      <th>1</th>\n",
       "      <td>C1010014</td>\n",
       "      <td>155</td>\n",
       "      <td>2</td>\n",
       "      <td>1455.0</td>\n",
       "    </tr>\n",
       "    <tr>\n",
       "      <th>2</th>\n",
       "      <td>C1010031</td>\n",
       "      <td>246</td>\n",
       "      <td>2</td>\n",
       "      <td>1864.0</td>\n",
       "    </tr>\n",
       "    <tr>\n",
       "      <th>3</th>\n",
       "      <td>C1010035</td>\n",
       "      <td>337</td>\n",
       "      <td>1</td>\n",
       "      <td>50.0</td>\n",
       "    </tr>\n",
       "    <tr>\n",
       "      <th>4</th>\n",
       "      <td>C1010037</td>\n",
       "      <td>93</td>\n",
       "      <td>1</td>\n",
       "      <td>19680.0</td>\n",
       "    </tr>\n",
       "  </tbody>\n",
       "</table>\n",
       "</div>"
      ],
      "text/plain": [
       "  CustomerID  Recency  Frequency  Monetary\n",
       "0   C1010011       93          1     356.0\n",
       "1   C1010014      155          2    1455.0\n",
       "2   C1010031      246          2    1864.0\n",
       "3   C1010035      337          1      50.0\n",
       "4   C1010037       93          1   19680.0"
      ]
     },
     "execution_count": 6,
     "metadata": {},
     "output_type": "execute_result"
    }
   ],
   "source": [
    "import pandas as pd\n",
    "\n",
    "# Clean column names just to be safe\n",
    "df.columns = df.columns.str.strip()\n",
    "\n",
    "# Convert date and amount\n",
    "df['TransactionDate'] = pd.to_datetime(df['TransactionDate'], errors='coerce')\n",
    "df['TransactionAmount (INR)'] = pd.to_numeric(df['TransactionAmount (INR)'], errors='coerce')\n",
    "\n",
    "# Drop missing values for key columns\n",
    "df = df.dropna(subset=['CustomerID', 'TransactionDate', 'TransactionAmount (INR)'])\n",
    "\n",
    "# Reference date — one day after the latest transaction\n",
    "reference_date = df['TransactionDate'].max() + pd.Timedelta(days=1)\n",
    "\n",
    "# Group by CustomerID\n",
    "rfm = df.groupby('CustomerID').agg({\n",
    "    'TransactionDate': lambda x: (reference_date - x.max()).days,  # Recency\n",
    "    'TransactionID': 'count',                                      # Frequency\n",
    "    'TransactionAmount (INR)': 'sum'                               # Monetary\n",
    "}).reset_index()\n",
    "\n",
    "# Rename columns for clarity\n",
    "rfm.columns = ['CustomerID', 'Recency', 'Frequency', 'Monetary']\n",
    "\n",
    "rfm.head()\n"
   ]
  },
  {
   "cell_type": "code",
   "execution_count": 7,
   "id": "50f2295a-fce9-487b-b0ac-79f44c7e0436",
   "metadata": {},
   "outputs": [
    {
     "data": {
      "text/html": [
       "<div>\n",
       "<style scoped>\n",
       "    .dataframe tbody tr th:only-of-type {\n",
       "        vertical-align: middle;\n",
       "    }\n",
       "\n",
       "    .dataframe tbody tr th {\n",
       "        vertical-align: top;\n",
       "    }\n",
       "\n",
       "    .dataframe thead th {\n",
       "        text-align: right;\n",
       "    }\n",
       "</style>\n",
       "<table border=\"1\" class=\"dataframe\">\n",
       "  <thead>\n",
       "    <tr style=\"text-align: right;\">\n",
       "      <th></th>\n",
       "      <th>CustomerID</th>\n",
       "      <th>Recency</th>\n",
       "      <th>Frequency</th>\n",
       "      <th>Monetary</th>\n",
       "      <th>R_Score</th>\n",
       "      <th>F_Score</th>\n",
       "      <th>M_Score</th>\n",
       "      <th>RFM_Segment</th>\n",
       "      <th>RFM_Score</th>\n",
       "    </tr>\n",
       "  </thead>\n",
       "  <tbody>\n",
       "    <tr>\n",
       "      <th>0</th>\n",
       "      <td>C1010011</td>\n",
       "      <td>93</td>\n",
       "      <td>1</td>\n",
       "      <td>356.0</td>\n",
       "      <td>3</td>\n",
       "      <td>1</td>\n",
       "      <td>2</td>\n",
       "      <td>312</td>\n",
       "      <td>6</td>\n",
       "    </tr>\n",
       "    <tr>\n",
       "      <th>1</th>\n",
       "      <td>C1010014</td>\n",
       "      <td>155</td>\n",
       "      <td>2</td>\n",
       "      <td>1455.0</td>\n",
       "      <td>3</td>\n",
       "      <td>4</td>\n",
       "      <td>4</td>\n",
       "      <td>344</td>\n",
       "      <td>11</td>\n",
       "    </tr>\n",
       "    <tr>\n",
       "      <th>2</th>\n",
       "      <td>C1010031</td>\n",
       "      <td>246</td>\n",
       "      <td>2</td>\n",
       "      <td>1864.0</td>\n",
       "      <td>2</td>\n",
       "      <td>4</td>\n",
       "      <td>4</td>\n",
       "      <td>244</td>\n",
       "      <td>10</td>\n",
       "    </tr>\n",
       "    <tr>\n",
       "      <th>3</th>\n",
       "      <td>C1010035</td>\n",
       "      <td>337</td>\n",
       "      <td>1</td>\n",
       "      <td>50.0</td>\n",
       "      <td>1</td>\n",
       "      <td>1</td>\n",
       "      <td>1</td>\n",
       "      <td>111</td>\n",
       "      <td>3</td>\n",
       "    </tr>\n",
       "    <tr>\n",
       "      <th>4</th>\n",
       "      <td>C1010037</td>\n",
       "      <td>93</td>\n",
       "      <td>1</td>\n",
       "      <td>19680.0</td>\n",
       "      <td>3</td>\n",
       "      <td>1</td>\n",
       "      <td>4</td>\n",
       "      <td>314</td>\n",
       "      <td>8</td>\n",
       "    </tr>\n",
       "  </tbody>\n",
       "</table>\n",
       "</div>"
      ],
      "text/plain": [
       "  CustomerID  Recency  Frequency  Monetary R_Score F_Score M_Score  \\\n",
       "0   C1010011       93          1     356.0       3       1       2   \n",
       "1   C1010014      155          2    1455.0       3       4       4   \n",
       "2   C1010031      246          2    1864.0       2       4       4   \n",
       "3   C1010035      337          1      50.0       1       1       1   \n",
       "4   C1010037       93          1   19680.0       3       1       4   \n",
       "\n",
       "  RFM_Segment  RFM_Score  \n",
       "0         312          6  \n",
       "1         344         11  \n",
       "2         244         10  \n",
       "3         111          3  \n",
       "4         314          8  "
      ]
     },
     "execution_count": 7,
     "metadata": {},
     "output_type": "execute_result"
    }
   ],
   "source": [
    "# R (lower = better), F & M (higher = better)\n",
    "rfm['R_Score'] = pd.qcut(rfm['Recency'], 4, labels=[4,3,2,1])\n",
    "rfm['F_Score'] = pd.qcut(rfm['Frequency'].rank(method='first'), 4, labels=[1,2,3,4])\n",
    "rfm['M_Score'] = pd.qcut(rfm['Monetary'], 4, labels=[1,2,3,4])\n",
    "\n",
    "# Combine scores\n",
    "rfm['RFM_Segment'] = rfm['R_Score'].astype(str) + rfm['F_Score'].astype(str) + rfm['M_Score'].astype(str)\n",
    "rfm['RFM_Score'] = rfm[['R_Score', 'F_Score', 'M_Score']].sum(axis=1).astype(int)\n",
    "\n",
    "rfm.head()\n"
   ]
  },
  {
   "cell_type": "code",
   "execution_count": 8,
   "id": "a500da5b-2a79-40fe-a4f1-c4e47d0d9ecb",
   "metadata": {},
   "outputs": [
    {
     "name": "stdout",
     "output_type": "stream",
     "text": [
      "✅ RFM results saved to ../output/rfm_results.csv\n"
     ]
    }
   ],
   "source": [
    "rfm.to_csv('../output/rfm_results.csv', index=False)\n",
    "print(\"✅ RFM results saved to ../output/rfm_results.csv\")\n"
   ]
  },
  {
   "cell_type": "code",
   "execution_count": 9,
   "id": "28bbb7cd-31cd-4349-9096-106d825318e2",
   "metadata": {},
   "outputs": [
    {
     "name": "stdout",
     "output_type": "stream",
     "text": [
      "['.ipynb_checkpoints', 'cleaned_data_2025-10-16_1230.csv', 'cleaned_data_2025-10-16_1713.csv', 'cleaned_data_2025-10-16_1727.csv', 'cleaned_data_2025-10-16_1750.csv', 'cleaned_data_2025-10-17_1012.csv', 'cleaned_data_2025-10-17_1015.csv', 'cleaned_data_2025-10-17_1234.csv', 'eda_data_2025-10-16_1418.csv', 'rfm_results.csv']\n"
     ]
    }
   ],
   "source": [
    "import os\n",
    "print(os.listdir('../output'))\n"
   ]
  },
  {
   "cell_type": "code",
   "execution_count": null,
   "id": "f2450237-2473-4cad-bcb3-322ad7b2e04e",
   "metadata": {},
   "outputs": [],
   "source": []
  }
 ],
 "metadata": {
  "kernelspec": {
   "display_name": "Python [conda env:base] *",
   "language": "python",
   "name": "conda-base-py"
  },
  "language_info": {
   "codemirror_mode": {
    "name": "ipython",
    "version": 3
   },
   "file_extension": ".py",
   "mimetype": "text/x-python",
   "name": "python",
   "nbconvert_exporter": "python",
   "pygments_lexer": "ipython3",
   "version": "3.12.7"
  }
 },
 "nbformat": 4,
 "nbformat_minor": 5
}
