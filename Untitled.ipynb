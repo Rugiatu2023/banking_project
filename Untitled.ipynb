{
 "cells": [
  {
   "cell_type": "code",
   "execution_count": 2,
   "id": "8ecc2fc0-b189-45d2-a217-220e7e1f0c0f",
   "metadata": {},
   "outputs": [],
   "source": [
    "import pandas as pd\n",
    "import numpy as np\n",
    "import matplotlib.pyplot as plt\n",
    "import seaborn as sns\n",
    "import datetime as dt"
   ]
  },
  {
   "cell_type": "code",
   "execution_count": 4,
   "id": "41fea10b-e967-45fd-8b86-482aabbbc9c1",
   "metadata": {},
   "outputs": [],
   "source": [
    "df =pd.read_csv(\"data/bank_data_project.csv\")"
   ]
  },
  {
   "cell_type": "code",
   "execution_count": 7,
   "id": "b7b3abf6-4c2a-45a2-af60-40b98f35822c",
   "metadata": {},
   "outputs": [
    {
     "name": "stdout",
     "output_type": "stream",
     "text": [
      "<class 'pandas.core.frame.DataFrame'>\n",
      "RangeIndex: 1041614 entries, 0 to 1041613\n",
      "Data columns (total 9 columns):\n",
      " #   Column                   Non-Null Count    Dtype  \n",
      "---  ------                   --------------    -----  \n",
      " 0   TransactionID            1041614 non-null  object \n",
      " 1   CustomerID               1041614 non-null  object \n",
      " 2   CustomerDOB              1041614 non-null  object \n",
      " 3   CustGender               1041614 non-null  object \n",
      " 4   CustLocation             1041614 non-null  object \n",
      " 5   CustAccountBalance       1041614 non-null  float64\n",
      " 6   TransactionDate          1041614 non-null  object \n",
      " 7   TransactionTime          1041614 non-null  int64  \n",
      " 8   TransactionAmount (INR)  1041614 non-null  float64\n",
      "dtypes: float64(2), int64(1), object(6)\n",
      "memory usage: 71.5+ MB\n"
     ]
    }
   ],
   "source": [
    "df.info()"
   ]
  },
  {
   "cell_type": "code",
   "execution_count": 8,
   "id": "b3116f72-296b-4d4f-b654-358315d43ab3",
   "metadata": {},
   "outputs": [
    {
     "name": "stdout",
     "output_type": "stream",
     "text": [
      "['10/01/1994', '04/04/1957', '26/11/1996', '14/09/1973', '24/03/1988', '08/10/1972', '26/01/1992', '27/01/1982', '19/04/1988', '22/06/1984', '22/07/1982', '07/07/1988', '13/06/1978', '05/01/1992', '24/03/1978', '10/07/1968', '1/1/1800', '16/07/1989', '11/01/1991', '24/06/1985', '20/04/1993', '31/08/1989', '1/1/1800', '01/10/1986', '17/05/1991', '24/02/1993', '01/02/1986', '01/04/1993', '1/1/1800', '21/01/1967']\n"
     ]
    }
   ],
   "source": [
    "print(df[\"CustomerDOB\"].head(30).tolist())"
   ]
  },
  {
   "cell_type": "code",
   "execution_count": 9,
   "id": "ff59b094-7e4f-4194-886d-37f8b661b5f5",
   "metadata": {},
   "outputs": [
    {
     "data": {
      "text/html": [
       "<div>\n",
       "<style scoped>\n",
       "    .dataframe tbody tr th:only-of-type {\n",
       "        vertical-align: middle;\n",
       "    }\n",
       "\n",
       "    .dataframe tbody tr th {\n",
       "        vertical-align: top;\n",
       "    }\n",
       "\n",
       "    .dataframe thead th {\n",
       "        text-align: right;\n",
       "    }\n",
       "</style>\n",
       "<table border=\"1\" class=\"dataframe\">\n",
       "  <thead>\n",
       "    <tr style=\"text-align: right;\">\n",
       "      <th></th>\n",
       "      <th>TransactionID</th>\n",
       "      <th>CustomerID</th>\n",
       "      <th>CustomerDOB</th>\n",
       "      <th>CustGender</th>\n",
       "      <th>CustLocation</th>\n",
       "      <th>CustAccountBalance</th>\n",
       "      <th>TransactionDate</th>\n",
       "      <th>TransactionTime</th>\n",
       "      <th>TransactionAmount (INR)</th>\n",
       "    </tr>\n",
       "  </thead>\n",
       "  <tbody>\n",
       "    <tr>\n",
       "      <th>0</th>\n",
       "      <td>T1</td>\n",
       "      <td>C5841053</td>\n",
       "      <td>10/01/1994</td>\n",
       "      <td>F</td>\n",
       "      <td>JAMSHEDPUR</td>\n",
       "      <td>17819.05</td>\n",
       "      <td>02/08/2016</td>\n",
       "      <td>143207</td>\n",
       "      <td>25.0</td>\n",
       "    </tr>\n",
       "    <tr>\n",
       "      <th>1</th>\n",
       "      <td>T2</td>\n",
       "      <td>C2142763</td>\n",
       "      <td>04/04/1957</td>\n",
       "      <td>M</td>\n",
       "      <td>JHAJJAR</td>\n",
       "      <td>2270.69</td>\n",
       "      <td>02/08/2016</td>\n",
       "      <td>141858</td>\n",
       "      <td>27999.0</td>\n",
       "    </tr>\n",
       "    <tr>\n",
       "      <th>2</th>\n",
       "      <td>T3</td>\n",
       "      <td>C4417068</td>\n",
       "      <td>26/11/1996</td>\n",
       "      <td>F</td>\n",
       "      <td>MUMBAI</td>\n",
       "      <td>17874.44</td>\n",
       "      <td>02/08/2016</td>\n",
       "      <td>142712</td>\n",
       "      <td>459.0</td>\n",
       "    </tr>\n",
       "    <tr>\n",
       "      <th>3</th>\n",
       "      <td>T4</td>\n",
       "      <td>C5342380</td>\n",
       "      <td>14/09/1973</td>\n",
       "      <td>F</td>\n",
       "      <td>MUMBAI</td>\n",
       "      <td>866503.21</td>\n",
       "      <td>02/08/2016</td>\n",
       "      <td>142714</td>\n",
       "      <td>2060.0</td>\n",
       "    </tr>\n",
       "    <tr>\n",
       "      <th>4</th>\n",
       "      <td>T5</td>\n",
       "      <td>C9031234</td>\n",
       "      <td>24/03/1988</td>\n",
       "      <td>F</td>\n",
       "      <td>NAVI MUMBAI</td>\n",
       "      <td>6714.43</td>\n",
       "      <td>02/08/2016</td>\n",
       "      <td>181156</td>\n",
       "      <td>1762.5</td>\n",
       "    </tr>\n",
       "  </tbody>\n",
       "</table>\n",
       "</div>"
      ],
      "text/plain": [
       "  TransactionID CustomerID CustomerDOB CustGender CustLocation  \\\n",
       "0            T1   C5841053  10/01/1994          F   JAMSHEDPUR   \n",
       "1            T2   C2142763  04/04/1957          M      JHAJJAR   \n",
       "2            T3   C4417068  26/11/1996          F       MUMBAI   \n",
       "3            T4   C5342380  14/09/1973          F       MUMBAI   \n",
       "4            T5   C9031234  24/03/1988          F  NAVI MUMBAI   \n",
       "\n",
       "   CustAccountBalance TransactionDate  TransactionTime  \\\n",
       "0            17819.05      02/08/2016           143207   \n",
       "1             2270.69      02/08/2016           141858   \n",
       "2            17874.44      02/08/2016           142712   \n",
       "3           866503.21      02/08/2016           142714   \n",
       "4             6714.43      02/08/2016           181156   \n",
       "\n",
       "   TransactionAmount (INR)  \n",
       "0                     25.0  \n",
       "1                  27999.0  \n",
       "2                    459.0  \n",
       "3                   2060.0  \n",
       "4                   1762.5  "
      ]
     },
     "execution_count": 9,
     "metadata": {},
     "output_type": "execute_result"
    }
   ],
   "source": [
    "df.head()"
   ]
  },
  {
   "cell_type": "code",
   "execution_count": 30,
   "id": "ecb7c9eb-184c-48d4-b399-63c1aa636ca4",
   "metadata": {},
   "outputs": [
    {
     "name": "stdout",
     "output_type": "stream",
     "text": [
      "<DatetimeArray>\n",
      "['2016-02-08 00:00:00', '2016-01-08 00:00:00', '2016-03-08 00:00:00',\n",
      " '2016-05-08 00:00:00', '2016-04-08 00:00:00', '2016-06-08 00:00:00',\n",
      " '2016-09-08 00:00:00', '2016-08-08 00:00:00', '2016-12-08 00:00:00',\n",
      " '2016-07-08 00:00:00',                 'NaT', '2016-10-08 00:00:00',\n",
      " '2016-11-08 00:00:00', '2016-03-09 00:00:00', '2016-02-09 00:00:00',\n",
      " '2016-01-09 00:00:00', '2016-06-09 00:00:00', '2016-05-09 00:00:00',\n",
      " '2016-04-09 00:00:00', '2016-09-09 00:00:00', '2016-08-09 00:00:00',\n",
      " '2016-07-09 00:00:00', '2016-12-09 00:00:00', '2016-11-09 00:00:00',\n",
      " '2016-10-09 00:00:00']\n",
      "Length: 25, dtype: datetime64[ns]\n"
     ]
    }
   ],
   "source": [
    "# Convert to datetime if needed\n",
    "df[\"TransactionDate\"] = pd.to_datetime(df[\"TransactionDate\"], errors='coerce')\n",
    "unique_dates = df[\"TransactionDate\"].unique()\n",
    "print(unique_dates)"
   ]
  },
  {
   "cell_type": "code",
   "execution_count": 10,
   "id": "a798483b-bda7-45bb-a775-5e31db39a578",
   "metadata": {},
   "outputs": [
    {
     "name": "stdout",
     "output_type": "stream",
     "text": [
      "<DatetimeArray>\n",
      "['1994-10-01 00:00:00', '1957-04-04 00:00:00',                 'NaT',\n",
      " '1972-08-10 00:00:00', '1988-07-07 00:00:00', '1992-05-01 00:00:00',\n",
      " '1968-10-07 00:00:00', '1800-01-01 00:00:00', '1991-11-01 00:00:00',\n",
      " '1986-01-10 00:00:00',\n",
      " ...\n",
      " '1998-04-02 00:00:00', '1959-09-03 00:00:00', '1998-02-06 00:00:00',\n",
      " '1957-08-05 00:00:00', '1965-10-02 00:00:00', '2004-07-03 00:00:00',\n",
      " '1945-07-06 00:00:00', '1954-09-06 00:00:00', '1946-06-04 00:00:00',\n",
      " '1950-07-01 00:00:00']\n",
      "Length: 7062, dtype: datetime64[ns]\n"
     ]
    }
   ],
   "source": [
    "# Convert to datetime if needed\n",
    "df[\"CustomerDOB\"] = pd.to_datetime(df[\"CustomerDOB\"], errors='coerce')\n",
    "unique_dates = df[\"CustomerDOB\"].unique()\n",
    "print(unique_dates)"
   ]
  },
  {
   "cell_type": "code",
   "execution_count": null,
   "id": "e8440f97-3518-4109-a412-4beb3c369246",
   "metadata": {},
   "outputs": [],
   "source": []
  },
  {
   "cell_type": "code",
   "execution_count": 11,
   "id": "735b45f1-f3ba-442d-b010-f14b6eafb20d",
   "metadata": {},
   "outputs": [
    {
     "name": "stdout",
     "output_type": "stream",
     "text": [
      "Number of invalid dates: 560396\n",
      "Invalid entries:\n",
      "        TransactionID CustomerID CustomerDOB CustGender   CustLocation  \\\n",
      "2                  T3   C4417068         NaT          F         MUMBAI   \n",
      "3                  T4   C5342380         NaT          F         MUMBAI   \n",
      "4                  T5   C9031234         NaT          F    NAVI MUMBAI   \n",
      "6                  T7   C7126560         NaT          F         MUMBAI   \n",
      "7                  T8   C1220223         NaT          M         MUMBAI   \n",
      "...               ...        ...         ...        ...            ...   \n",
      "1041607      T1048561   C5028150         NaT          M           PUNE   \n",
      "1041608      T1048562   C1034220         NaT          M      BANGALORE   \n",
      "1041610      T1048564   C6459278         NaT          M         NASHIK   \n",
      "1041611      T1048565   C6412354         NaT          M      HYDERABAD   \n",
      "1041612      T1048566   C6420483         NaT          M  VISAKHAPATNAM   \n",
      "\n",
      "         CustAccountBalance TransactionDate  TransactionTime  \\\n",
      "2                  17874.44      02/08/2016           142712   \n",
      "3                 866503.21      02/08/2016           142714   \n",
      "4                   6714.43      02/08/2016           181156   \n",
      "6                    973.46      02/08/2016           173806   \n",
      "7                  95075.54      02/08/2016           170537   \n",
      "...                     ...             ...              ...   \n",
      "1041607              464.87      18/09/2016           184632   \n",
      "1041608             1212.70      18/09/2016           184734   \n",
      "1041610            27311.42      18/09/2016           183734   \n",
      "1041611           221757.06      18/09/2016           183313   \n",
      "1041612            10117.87      18/09/2016           184706   \n",
      "\n",
      "         TransactionAmount (INR)  \n",
      "2                          459.0  \n",
      "3                         2060.0  \n",
      "4                         1762.5  \n",
      "6                          566.0  \n",
      "7                          148.0  \n",
      "...                          ...  \n",
      "1041607                   3000.0  \n",
      "1041608                   1500.0  \n",
      "1041610                    460.0  \n",
      "1041611                    770.0  \n",
      "1041612                   1000.0  \n",
      "\n",
      "[560396 rows x 9 columns]\n"
     ]
    }
   ],
   "source": [
    " #Check for invalid dates (NaT values)\n",
    "invalid_dates = df[df[\"CustomerDOB\"].isna()]\n",
    "print(f\"Number of invalid dates: {len(invalid_dates)}\")\n",
    "print(\"Invalid entries:\")\n",
    "print(invalid_dates)"
   ]
  },
  {
   "cell_type": "code",
   "execution_count": 12,
   "id": "7c83047e-dd33-488b-8c95-1ae82d1f5370",
   "metadata": {},
   "outputs": [
    {
     "name": "stdout",
     "output_type": "stream",
     "text": [
      "Invalid dates (NaT): 560396\n",
      "Total rows: 1041614\n",
      "Percentage invalid: 53.80%\n"
     ]
    }
   ],
   "source": [
    "# Count NaT values\n",
    "nat_count = df[\"CustomerDOB\"].isna().sum()\n",
    "total_count = len(df)\n",
    "print(f\"Invalid dates (NaT): {nat_count}\")\n",
    "print(f\"Total rows: {total_count}\")\n",
    "print(f\"Percentage invalid: {(nat_count/total_count)*100:.2f}%\")"
   ]
  },
  {
   "cell_type": "code",
   "execution_count": 13,
   "id": "ffae3529-aac6-47ac-a48c-61b7f768a38a",
   "metadata": {},
   "outputs": [
    {
     "name": "stdout",
     "output_type": "stream",
     "text": [
      "Sample of original CustomerDOB values that became NaT:\n",
      "[NaT, NaT, NaT, NaT, NaT, NaT, NaT, NaT, NaT, NaT, NaT, NaT, NaT, NaT, NaT, NaT, NaT, NaT, NaT, NaT]\n"
     ]
    }
   ],
   "source": [
    "# Check what the original date values actually look like\n",
    "print(\"Sample of original CustomerDOB values that became NaT:\")\n",
    "original_dob_sample = df.loc[df[\"CustomerDOB\"].isna(), \"CustomerDOB\"].head(20)\n",
    "print(original_dob_sample.tolist())\n",
    "\n",
    "# Or if you have the original data before conversion, check that"
   ]
  },
  {
   "cell_type": "code",
   "execution_count": 31,
   "id": "a7f6605f-ecac-4067-952f-b208cf262f1c",
   "metadata": {},
   "outputs": [],
   "source": [
    "df[\"CustomerDOB\"] = df[\"CustomerDOB\"].bfill()"
   ]
  },
  {
   "cell_type": "code",
   "execution_count": 32,
   "id": "e7d32e76-6f1b-427f-8414-e50b62c6208c",
   "metadata": {},
   "outputs": [
    {
     "name": "stdout",
     "output_type": "stream",
     "text": [
      "<DatetimeArray>\n",
      "['1994-10-01 00:00:00', '1957-04-04 00:00:00', '1972-08-10 00:00:00',\n",
      " '1988-07-07 00:00:00', '1992-05-01 00:00:00', '1968-10-07 00:00:00',\n",
      " '1800-01-01 00:00:00', '1991-11-01 00:00:00', '1986-01-10 00:00:00',\n",
      " '1986-01-02 00:00:00',\n",
      " ...\n",
      " '1998-04-02 00:00:00', '1959-09-03 00:00:00', '1998-02-06 00:00:00',\n",
      " '1957-08-05 00:00:00', '1965-10-02 00:00:00', '2004-07-03 00:00:00',\n",
      " '1945-07-06 00:00:00', '1954-09-06 00:00:00', '1946-06-04 00:00:00',\n",
      " '1950-07-01 00:00:00']\n",
      "Length: 7061, dtype: datetime64[ns]\n"
     ]
    }
   ],
   "source": [
    "# Convert to datetime if needed\n",
    "df[\"CustomerDOB\"] = pd.to_datetime(df[\"CustomerDOB\"], errors='coerce')\n",
    "unique_dates = df[\"CustomerDOB\"].unique()\n",
    "print(unique_dates)"
   ]
  },
  {
   "cell_type": "code",
   "execution_count": 33,
   "id": "e7d924eb-863a-44b2-9362-9aabdf5c9634",
   "metadata": {},
   "outputs": [
    {
     "name": "stdout",
     "output_type": "stream",
     "text": [
      "0         1994-10-01\n",
      "1         1957-04-04\n",
      "2         1972-08-10\n",
      "3         1972-08-10\n",
      "4         1972-08-10\n",
      "             ...    \n",
      "1041609   1990-08-04\n",
      "1041610   1984-05-03\n",
      "1041611   1984-05-03\n",
      "1041612   1984-05-03\n",
      "1041613   1984-05-03\n",
      "Name: CustomerDOB, Length: 1041614, dtype: datetime64[ns]\n"
     ]
    }
   ],
   "source": [
    "# Convert to datetime \n",
    "print(df[\"CustomerDOB\"])"
   ]
  },
  {
   "cell_type": "code",
   "execution_count": 34,
   "id": "7015a3bc-9b98-4661-8c9d-16121876dd75",
   "metadata": {},
   "outputs": [
    {
     "name": "stdout",
     "output_type": "stream",
     "text": [
      "Invalid dates (NaT): 0\n",
      "Total rows: 1041614\n",
      "Percentage invalid: 0.00%\n"
     ]
    }
   ],
   "source": [
    "# Count NaT values\n",
    "nat_count = df[\"CustomerDOB\"].isna().sum()\n",
    "total_count = len(df)\n",
    "print(f\"Invalid dates (NaT): {nat_count}\")\n",
    "print(f\"Total rows: {total_count}\")\n",
    "print(f\"Percentage invalid: {(nat_count/total_count)*100:.2f}%\")"
   ]
  },
  {
   "cell_type": "code",
   "execution_count": 35,
   "id": "4a236899-e690-41c2-8120-8dfb1ba911fe",
   "metadata": {},
   "outputs": [
    {
     "data": {
      "text/html": [
       "<div>\n",
       "<style scoped>\n",
       "    .dataframe tbody tr th:only-of-type {\n",
       "        vertical-align: middle;\n",
       "    }\n",
       "\n",
       "    .dataframe tbody tr th {\n",
       "        vertical-align: top;\n",
       "    }\n",
       "\n",
       "    .dataframe thead th {\n",
       "        text-align: right;\n",
       "    }\n",
       "</style>\n",
       "<table border=\"1\" class=\"dataframe\">\n",
       "  <thead>\n",
       "    <tr style=\"text-align: right;\">\n",
       "      <th></th>\n",
       "      <th>TransactionID</th>\n",
       "      <th>CustomerID</th>\n",
       "      <th>CustomerDOB</th>\n",
       "      <th>CustGender</th>\n",
       "      <th>CustLocation</th>\n",
       "      <th>CustAccountBalance</th>\n",
       "      <th>TransactionDate</th>\n",
       "      <th>TransactionTime</th>\n",
       "      <th>TransactionAmount (INR)</th>\n",
       "    </tr>\n",
       "  </thead>\n",
       "  <tbody>\n",
       "    <tr>\n",
       "      <th>0</th>\n",
       "      <td>T1</td>\n",
       "      <td>C5841053</td>\n",
       "      <td>1994-10-01</td>\n",
       "      <td>F</td>\n",
       "      <td>JAMSHEDPUR</td>\n",
       "      <td>17819.05</td>\n",
       "      <td>2016-02-08</td>\n",
       "      <td>143207</td>\n",
       "      <td>25.0</td>\n",
       "    </tr>\n",
       "    <tr>\n",
       "      <th>1</th>\n",
       "      <td>T2</td>\n",
       "      <td>C2142763</td>\n",
       "      <td>1957-04-04</td>\n",
       "      <td>M</td>\n",
       "      <td>JHAJJAR</td>\n",
       "      <td>2270.69</td>\n",
       "      <td>2016-02-08</td>\n",
       "      <td>141858</td>\n",
       "      <td>27999.0</td>\n",
       "    </tr>\n",
       "    <tr>\n",
       "      <th>2</th>\n",
       "      <td>T3</td>\n",
       "      <td>C4417068</td>\n",
       "      <td>1972-08-10</td>\n",
       "      <td>F</td>\n",
       "      <td>MUMBAI</td>\n",
       "      <td>17874.44</td>\n",
       "      <td>2016-02-08</td>\n",
       "      <td>142712</td>\n",
       "      <td>459.0</td>\n",
       "    </tr>\n",
       "    <tr>\n",
       "      <th>3</th>\n",
       "      <td>T4</td>\n",
       "      <td>C5342380</td>\n",
       "      <td>1972-08-10</td>\n",
       "      <td>F</td>\n",
       "      <td>MUMBAI</td>\n",
       "      <td>866503.21</td>\n",
       "      <td>2016-02-08</td>\n",
       "      <td>142714</td>\n",
       "      <td>2060.0</td>\n",
       "    </tr>\n",
       "    <tr>\n",
       "      <th>4</th>\n",
       "      <td>T5</td>\n",
       "      <td>C9031234</td>\n",
       "      <td>1972-08-10</td>\n",
       "      <td>F</td>\n",
       "      <td>NAVI MUMBAI</td>\n",
       "      <td>6714.43</td>\n",
       "      <td>2016-02-08</td>\n",
       "      <td>181156</td>\n",
       "      <td>1762.5</td>\n",
       "    </tr>\n",
       "  </tbody>\n",
       "</table>\n",
       "</div>"
      ],
      "text/plain": [
       "  TransactionID CustomerID CustomerDOB CustGender CustLocation  \\\n",
       "0            T1   C5841053  1994-10-01          F   JAMSHEDPUR   \n",
       "1            T2   C2142763  1957-04-04          M      JHAJJAR   \n",
       "2            T3   C4417068  1972-08-10          F       MUMBAI   \n",
       "3            T4   C5342380  1972-08-10          F       MUMBAI   \n",
       "4            T5   C9031234  1972-08-10          F  NAVI MUMBAI   \n",
       "\n",
       "   CustAccountBalance TransactionDate  TransactionTime  \\\n",
       "0            17819.05      2016-02-08           143207   \n",
       "1             2270.69      2016-02-08           141858   \n",
       "2            17874.44      2016-02-08           142712   \n",
       "3           866503.21      2016-02-08           142714   \n",
       "4             6714.43      2016-02-08           181156   \n",
       "\n",
       "   TransactionAmount (INR)  \n",
       "0                     25.0  \n",
       "1                  27999.0  \n",
       "2                    459.0  \n",
       "3                   2060.0  \n",
       "4                   1762.5  "
      ]
     },
     "execution_count": 35,
     "metadata": {},
     "output_type": "execute_result"
    }
   ],
   "source": [
    "df.head()"
   ]
  },
  {
   "cell_type": "code",
   "execution_count": 36,
   "id": "45325eaa-ffd2-4463-8006-268ef80a4743",
   "metadata": {},
   "outputs": [
    {
     "data": {
      "text/html": [
       "<div>\n",
       "<style scoped>\n",
       "    .dataframe tbody tr th:only-of-type {\n",
       "        vertical-align: middle;\n",
       "    }\n",
       "\n",
       "    .dataframe tbody tr th {\n",
       "        vertical-align: top;\n",
       "    }\n",
       "\n",
       "    .dataframe thead th {\n",
       "        text-align: right;\n",
       "    }\n",
       "</style>\n",
       "<table border=\"1\" class=\"dataframe\">\n",
       "  <thead>\n",
       "    <tr style=\"text-align: right;\">\n",
       "      <th></th>\n",
       "      <th>CustomerDOB</th>\n",
       "      <th>CustAccountBalance</th>\n",
       "      <th>TransactionDate</th>\n",
       "      <th>TransactionTime</th>\n",
       "      <th>TransactionAmount (INR)</th>\n",
       "    </tr>\n",
       "  </thead>\n",
       "  <tbody>\n",
       "    <tr>\n",
       "      <th>count</th>\n",
       "      <td>1041614</td>\n",
       "      <td>1.041614e+06</td>\n",
       "      <td>538378</td>\n",
       "      <td>1.041614e+06</td>\n",
       "      <td>1.041614e+06</td>\n",
       "    </tr>\n",
       "    <tr>\n",
       "      <th>mean</th>\n",
       "      <td>1963-09-24 01:54:37.317700992</td>\n",
       "      <td>1.149986e+05</td>\n",
       "      <td>2016-06-24 11:52:07.540872448</td>\n",
       "      <td>1.571221e+05</td>\n",
       "      <td>1.566096e+03</td>\n",
       "    </tr>\n",
       "    <tr>\n",
       "      <th>min</th>\n",
       "      <td>1800-01-01 00:00:00</td>\n",
       "      <td>0.000000e+00</td>\n",
       "      <td>2016-01-08 00:00:00</td>\n",
       "      <td>0.000000e+00</td>\n",
       "      <td>0.000000e+00</td>\n",
       "    </tr>\n",
       "    <tr>\n",
       "      <th>25%</th>\n",
       "      <td>1977-10-02 00:00:00</td>\n",
       "      <td>4.728140e+03</td>\n",
       "      <td>2016-04-08 00:00:00</td>\n",
       "      <td>1.240410e+05</td>\n",
       "      <td>1.600000e+02</td>\n",
       "    </tr>\n",
       "    <tr>\n",
       "      <th>50%</th>\n",
       "      <td>1986-05-10 00:00:00</td>\n",
       "      <td>1.676852e+04</td>\n",
       "      <td>2016-07-08 00:00:00</td>\n",
       "      <td>1.642470e+05</td>\n",
       "      <td>4.575000e+02</td>\n",
       "    </tr>\n",
       "    <tr>\n",
       "      <th>75%</th>\n",
       "      <td>1990-11-02 00:00:00</td>\n",
       "      <td>5.742885e+04</td>\n",
       "      <td>2016-10-08 00:00:00</td>\n",
       "      <td>2.000220e+05</td>\n",
       "      <td>1.200000e+03</td>\n",
       "    </tr>\n",
       "    <tr>\n",
       "      <th>max</th>\n",
       "      <td>2029-06-05 00:00:00</td>\n",
       "      <td>1.150355e+08</td>\n",
       "      <td>2016-12-09 00:00:00</td>\n",
       "      <td>2.359590e+05</td>\n",
       "      <td>1.560035e+06</td>\n",
       "    </tr>\n",
       "    <tr>\n",
       "      <th>std</th>\n",
       "      <td>NaN</td>\n",
       "      <td>8.467609e+05</td>\n",
       "      <td>NaN</td>\n",
       "      <td>5.126352e+04</td>\n",
       "      <td>6.561464e+03</td>\n",
       "    </tr>\n",
       "  </tbody>\n",
       "</table>\n",
       "</div>"
      ],
      "text/plain": [
       "                         CustomerDOB  CustAccountBalance  \\\n",
       "count                        1041614        1.041614e+06   \n",
       "mean   1963-09-24 01:54:37.317700992        1.149986e+05   \n",
       "min              1800-01-01 00:00:00        0.000000e+00   \n",
       "25%              1977-10-02 00:00:00        4.728140e+03   \n",
       "50%              1986-05-10 00:00:00        1.676852e+04   \n",
       "75%              1990-11-02 00:00:00        5.742885e+04   \n",
       "max              2029-06-05 00:00:00        1.150355e+08   \n",
       "std                              NaN        8.467609e+05   \n",
       "\n",
       "                     TransactionDate  TransactionTime  TransactionAmount (INR)  \n",
       "count                         538378     1.041614e+06             1.041614e+06  \n",
       "mean   2016-06-24 11:52:07.540872448     1.571221e+05             1.566096e+03  \n",
       "min              2016-01-08 00:00:00     0.000000e+00             0.000000e+00  \n",
       "25%              2016-04-08 00:00:00     1.240410e+05             1.600000e+02  \n",
       "50%              2016-07-08 00:00:00     1.642470e+05             4.575000e+02  \n",
       "75%              2016-10-08 00:00:00     2.000220e+05             1.200000e+03  \n",
       "max              2016-12-09 00:00:00     2.359590e+05             1.560035e+06  \n",
       "std                              NaN     5.126352e+04             6.561464e+03  "
      ]
     },
     "execution_count": 36,
     "metadata": {},
     "output_type": "execute_result"
    }
   ],
   "source": [
    "df.describe()"
   ]
  },
  {
   "cell_type": "code",
   "execution_count": 37,
   "id": "7afdcd46-501a-4281-9bc1-13f3102726be",
   "metadata": {},
   "outputs": [
    {
     "name": "stdout",
     "output_type": "stream",
     "text": [
      "0         1994-10-01\n",
      "1         1957-04-04\n",
      "2         1972-08-10\n",
      "3         1972-08-10\n",
      "4         1972-08-10\n",
      "             ...    \n",
      "1041609   1990-08-04\n",
      "1041610   1984-05-03\n",
      "1041611   1984-05-03\n",
      "1041612   1984-05-03\n",
      "1041613   1984-05-03\n",
      "Name: CustomerDOB, Length: 1041614, dtype: datetime64[ns]\n"
     ]
    }
   ],
   "source": [
    "print(df['CustomerDOB'])"
   ]
  },
  {
   "cell_type": "code",
   "execution_count": 38,
   "id": "94539f41-1dbc-4c6a-a386-80f2f478a8c5",
   "metadata": {},
   "outputs": [
    {
     "name": "stdout",
     "output_type": "stream",
     "text": [
      "[Timestamp('1994-10-01 00:00:00'), Timestamp('1957-04-04 00:00:00'), Timestamp('1972-08-10 00:00:00'), Timestamp('1972-08-10 00:00:00'), Timestamp('1972-08-10 00:00:00'), Timestamp('1972-08-10 00:00:00'), Timestamp('1988-07-07 00:00:00'), Timestamp('1988-07-07 00:00:00'), Timestamp('1988-07-07 00:00:00'), Timestamp('1988-07-07 00:00:00'), Timestamp('1988-07-07 00:00:00'), Timestamp('1988-07-07 00:00:00'), Timestamp('1992-05-01 00:00:00'), Timestamp('1992-05-01 00:00:00'), Timestamp('1968-10-07 00:00:00'), Timestamp('1968-10-07 00:00:00'), Timestamp('1800-01-01 00:00:00'), Timestamp('1991-11-01 00:00:00'), Timestamp('1991-11-01 00:00:00'), Timestamp('1800-01-01 00:00:00'), Timestamp('1800-01-01 00:00:00'), Timestamp('1800-01-01 00:00:00'), Timestamp('1800-01-01 00:00:00'), Timestamp('1986-01-10 00:00:00'), Timestamp('1986-01-02 00:00:00'), Timestamp('1986-01-02 00:00:00'), Timestamp('1986-01-02 00:00:00'), Timestamp('1993-01-04 00:00:00'), Timestamp('1800-01-01 00:00:00'), Timestamp('1800-01-01 00:00:00')]\n"
     ]
    }
   ],
   "source": [
    "print(df[\"CustomerDOB\"].head(30).tolist())"
   ]
  },
  {
   "cell_type": "code",
   "execution_count": 39,
   "id": "9af877b1-f4db-40d4-aebf-a2eb6fdd55b8",
   "metadata": {},
   "outputs": [
    {
     "data": {
      "text/html": [
       "<div>\n",
       "<style scoped>\n",
       "    .dataframe tbody tr th:only-of-type {\n",
       "        vertical-align: middle;\n",
       "    }\n",
       "\n",
       "    .dataframe tbody tr th {\n",
       "        vertical-align: top;\n",
       "    }\n",
       "\n",
       "    .dataframe thead th {\n",
       "        text-align: right;\n",
       "    }\n",
       "</style>\n",
       "<table border=\"1\" class=\"dataframe\">\n",
       "  <thead>\n",
       "    <tr style=\"text-align: right;\">\n",
       "      <th></th>\n",
       "      <th>TransactionID</th>\n",
       "      <th>CustomerID</th>\n",
       "      <th>CustomerDOB</th>\n",
       "      <th>CustGender</th>\n",
       "      <th>CustLocation</th>\n",
       "      <th>CustAccountBalance</th>\n",
       "      <th>TransactionDate</th>\n",
       "      <th>TransactionTime</th>\n",
       "      <th>TransactionAmount (INR)</th>\n",
       "    </tr>\n",
       "  </thead>\n",
       "  <tbody>\n",
       "    <tr>\n",
       "      <th>16</th>\n",
       "      <td>T17</td>\n",
       "      <td>C1376215</td>\n",
       "      <td>1800-01-01</td>\n",
       "      <td>M</td>\n",
       "      <td>MUMBAI</td>\n",
       "      <td>77495.15</td>\n",
       "      <td>2016-01-08</td>\n",
       "      <td>124727</td>\n",
       "      <td>1423.11</td>\n",
       "    </tr>\n",
       "    <tr>\n",
       "      <th>19</th>\n",
       "      <td>T20</td>\n",
       "      <td>C8999019</td>\n",
       "      <td>1800-01-01</td>\n",
       "      <td>M</td>\n",
       "      <td>PUNE</td>\n",
       "      <td>10643.50</td>\n",
       "      <td>2016-01-08</td>\n",
       "      <td>152821</td>\n",
       "      <td>945.00</td>\n",
       "    </tr>\n",
       "    <tr>\n",
       "      <th>20</th>\n",
       "      <td>T21</td>\n",
       "      <td>C6121429</td>\n",
       "      <td>1800-01-01</td>\n",
       "      <td>M</td>\n",
       "      <td>NO 3 KALYANI NAGAR PUNE</td>\n",
       "      <td>2934.22</td>\n",
       "      <td>2016-01-08</td>\n",
       "      <td>152824</td>\n",
       "      <td>36.00</td>\n",
       "    </tr>\n",
       "    <tr>\n",
       "      <th>21</th>\n",
       "      <td>T22</td>\n",
       "      <td>C4511244</td>\n",
       "      <td>1800-01-01</td>\n",
       "      <td>F</td>\n",
       "      <td>SECUNDERABAD</td>\n",
       "      <td>4470.15</td>\n",
       "      <td>2016-03-08</td>\n",
       "      <td>105329</td>\n",
       "      <td>27.00</td>\n",
       "    </tr>\n",
       "    <tr>\n",
       "      <th>22</th>\n",
       "      <td>T23</td>\n",
       "      <td>C7018081</td>\n",
       "      <td>1800-01-01</td>\n",
       "      <td>M</td>\n",
       "      <td>WAYS PANCHKUVA AHMEDABAD</td>\n",
       "      <td>143.07</td>\n",
       "      <td>2016-03-08</td>\n",
       "      <td>104718</td>\n",
       "      <td>110.00</td>\n",
       "    </tr>\n",
       "    <tr>\n",
       "      <th>...</th>\n",
       "      <td>...</td>\n",
       "      <td>...</td>\n",
       "      <td>...</td>\n",
       "      <td>...</td>\n",
       "      <td>...</td>\n",
       "      <td>...</td>\n",
       "      <td>...</td>\n",
       "      <td>...</td>\n",
       "      <td>...</td>\n",
       "    </tr>\n",
       "    <tr>\n",
       "      <th>1041578</th>\n",
       "      <td>T1048532</td>\n",
       "      <td>C6937679</td>\n",
       "      <td>1800-01-01</td>\n",
       "      <td>M</td>\n",
       "      <td>NEW DELHI</td>\n",
       "      <td>50698.90</td>\n",
       "      <td>NaT</td>\n",
       "      <td>184319</td>\n",
       "      <td>598.86</td>\n",
       "    </tr>\n",
       "    <tr>\n",
       "      <th>1041579</th>\n",
       "      <td>T1048533</td>\n",
       "      <td>C3422316</td>\n",
       "      <td>1800-01-01</td>\n",
       "      <td>F</td>\n",
       "      <td>BARODA</td>\n",
       "      <td>91662.32</td>\n",
       "      <td>NaT</td>\n",
       "      <td>183750</td>\n",
       "      <td>800.00</td>\n",
       "    </tr>\n",
       "    <tr>\n",
       "      <th>1041580</th>\n",
       "      <td>T1048534</td>\n",
       "      <td>C7431884</td>\n",
       "      <td>1800-01-01</td>\n",
       "      <td>M</td>\n",
       "      <td>MANDIR DHANBAD</td>\n",
       "      <td>53771.64</td>\n",
       "      <td>NaT</td>\n",
       "      <td>184049</td>\n",
       "      <td>520.00</td>\n",
       "    </tr>\n",
       "    <tr>\n",
       "      <th>1041586</th>\n",
       "      <td>T1048540</td>\n",
       "      <td>C7411577</td>\n",
       "      <td>1800-01-01</td>\n",
       "      <td>F</td>\n",
       "      <td>BANGALORE</td>\n",
       "      <td>10662.67</td>\n",
       "      <td>NaT</td>\n",
       "      <td>182350</td>\n",
       "      <td>695.00</td>\n",
       "    </tr>\n",
       "    <tr>\n",
       "      <th>1041587</th>\n",
       "      <td>T1048541</td>\n",
       "      <td>C1528025</td>\n",
       "      <td>1800-01-01</td>\n",
       "      <td>M</td>\n",
       "      <td>MUMBAI</td>\n",
       "      <td>230894.59</td>\n",
       "      <td>NaT</td>\n",
       "      <td>182331</td>\n",
       "      <td>290.00</td>\n",
       "    </tr>\n",
       "  </tbody>\n",
       "</table>\n",
       "<p>121197 rows × 9 columns</p>\n",
       "</div>"
      ],
      "text/plain": [
       "        TransactionID CustomerID CustomerDOB CustGender  \\\n",
       "16                T17   C1376215  1800-01-01          M   \n",
       "19                T20   C8999019  1800-01-01          M   \n",
       "20                T21   C6121429  1800-01-01          M   \n",
       "21                T22   C4511244  1800-01-01          F   \n",
       "22                T23   C7018081  1800-01-01          M   \n",
       "...               ...        ...         ...        ...   \n",
       "1041578      T1048532   C6937679  1800-01-01          M   \n",
       "1041579      T1048533   C3422316  1800-01-01          F   \n",
       "1041580      T1048534   C7431884  1800-01-01          M   \n",
       "1041586      T1048540   C7411577  1800-01-01          F   \n",
       "1041587      T1048541   C1528025  1800-01-01          M   \n",
       "\n",
       "                     CustLocation  CustAccountBalance TransactionDate  \\\n",
       "16                         MUMBAI            77495.15      2016-01-08   \n",
       "19                           PUNE            10643.50      2016-01-08   \n",
       "20        NO 3 KALYANI NAGAR PUNE             2934.22      2016-01-08   \n",
       "21                   SECUNDERABAD             4470.15      2016-03-08   \n",
       "22       WAYS PANCHKUVA AHMEDABAD              143.07      2016-03-08   \n",
       "...                           ...                 ...             ...   \n",
       "1041578                 NEW DELHI            50698.90             NaT   \n",
       "1041579                    BARODA            91662.32             NaT   \n",
       "1041580            MANDIR DHANBAD            53771.64             NaT   \n",
       "1041586                 BANGALORE            10662.67             NaT   \n",
       "1041587                    MUMBAI           230894.59             NaT   \n",
       "\n",
       "         TransactionTime  TransactionAmount (INR)  \n",
       "16                124727                  1423.11  \n",
       "19                152821                   945.00  \n",
       "20                152824                    36.00  \n",
       "21                105329                    27.00  \n",
       "22                104718                   110.00  \n",
       "...                  ...                      ...  \n",
       "1041578           184319                   598.86  \n",
       "1041579           183750                   800.00  \n",
       "1041580           184049                   520.00  \n",
       "1041586           182350                   695.00  \n",
       "1041587           182331                   290.00  \n",
       "\n",
       "[121197 rows x 9 columns]"
      ]
     },
     "execution_count": 39,
     "metadata": {},
     "output_type": "execute_result"
    }
   ],
   "source": [
    "df[df[\"CustomerDOB\"].dt.year == 1800]\n"
   ]
  },
  {
   "cell_type": "code",
   "execution_count": 40,
   "id": "9db2ee2a-070b-4632-93a1-2d4836db3c30",
   "metadata": {},
   "outputs": [
    {
     "data": {
      "text/plain": [
       "(121197, 9)"
      ]
     },
     "execution_count": 40,
     "metadata": {},
     "output_type": "execute_result"
    }
   ],
   "source": [
    "df[df['CustomerDOB'].dt.year == 1800].shape\n"
   ]
  },
  {
   "cell_type": "code",
   "execution_count": 41,
   "id": "69484706-6d2c-4fc8-834f-de5721f67073",
   "metadata": {},
   "outputs": [],
   "source": [
    "df.loc[df['CustomerDOB'].dt.year == 1800, 'CustomerDOB'] = pd.Timestamp('2020-01-01')\n"
   ]
  },
  {
   "cell_type": "code",
   "execution_count": 42,
   "id": "f5d2e25b-eedf-4ae0-97af-14e8977e7160",
   "metadata": {},
   "outputs": [
    {
     "data": {
      "text/plain": [
       "0    1994-10-01\n",
       "1    1957-04-04\n",
       "2    1972-08-10\n",
       "3    1972-08-10\n",
       "4    1972-08-10\n",
       "5    1972-08-10\n",
       "6    1988-07-07\n",
       "7    1988-07-07\n",
       "8    1988-07-07\n",
       "9    1988-07-07\n",
       "10   1988-07-07\n",
       "11   1988-07-07\n",
       "12   1992-05-01\n",
       "13   1992-05-01\n",
       "14   1968-10-07\n",
       "15   1968-10-07\n",
       "16   2020-01-01\n",
       "17   1991-11-01\n",
       "18   1991-11-01\n",
       "19   2020-01-01\n",
       "20   2020-01-01\n",
       "21   2020-01-01\n",
       "22   2020-01-01\n",
       "23   1986-01-10\n",
       "24   1986-01-02\n",
       "25   1986-01-02\n",
       "26   1986-01-02\n",
       "27   1993-01-04\n",
       "28   2020-01-01\n",
       "29   2020-01-01\n",
       "Name: CustomerDOB, dtype: datetime64[ns]"
      ]
     },
     "execution_count": 42,
     "metadata": {},
     "output_type": "execute_result"
    }
   ],
   "source": [
    "df['CustomerDOB'].head(30)"
   ]
  },
  {
   "cell_type": "code",
   "execution_count": null,
   "id": "33278501-a668-4e91-8adf-1d6b250f68f6",
   "metadata": {},
   "outputs": [],
   "source": []
  }
 ],
 "metadata": {
  "kernelspec": {
   "display_name": "Python [conda env:base] *",
   "language": "python",
   "name": "conda-base-py"
  },
  "language_info": {
   "codemirror_mode": {
    "name": "ipython",
    "version": 3
   },
   "file_extension": ".py",
   "mimetype": "text/x-python",
   "name": "python",
   "nbconvert_exporter": "python",
   "pygments_lexer": "ipython3",
   "version": "3.12.7"
  }
 },
 "nbformat": 4,
 "nbformat_minor": 5
}
