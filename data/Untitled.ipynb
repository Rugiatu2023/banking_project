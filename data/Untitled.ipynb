{
 "cells": [
  {
   "cell_type": "code",
   "execution_count": 6,
   "id": "8ecc2fc0-b189-45d2-a217-220e7e1f0c0f",
   "metadata": {},
   "outputs": [],
   "source": [
    "import pandas as pd\n",
    "import numpy as np\n",
    "import matplotlib.pyplot as plt\n",
    "import seaborn as sns\n",
    "import datetime as dt"
   ]
  },
  {
   "cell_type": "code",
   "execution_count": 7,
   "id": "41fea10b-e967-45fd-8b86-482aabbbc9c1",
   "metadata": {},
   "outputs": [],
   "source": [
    "df =pd.read_csv(\"data/bank_data_project.csv\")"
   ]
  },
  {
   "cell_type": "code",
   "execution_count": 9,
   "id": "b7b3abf6-4c2a-45a2-af60-40b98f35822c",
   "metadata": {},
   "outputs": [
    {
     "name": "stdout",
     "output_type": "stream",
     "text": [
      "<class 'pandas.core.frame.DataFrame'>\n",
      "RangeIndex: 1041614 entries, 0 to 1041613\n",
      "Data columns (total 9 columns):\n",
      " #   Column                   Non-Null Count    Dtype  \n",
      "---  ------                   --------------    -----  \n",
      " 0   TransactionID            1041614 non-null  object \n",
      " 1   CustomerID               1041614 non-null  object \n",
      " 2   CustomerDOB              1041614 non-null  object \n",
      " 3   CustGender               1041614 non-null  object \n",
      " 4   CustLocation             1041614 non-null  object \n",
      " 5   CustAccountBalance       1041614 non-null  float64\n",
      " 6   TransactionDate          1041614 non-null  object \n",
      " 7   TransactionTime          1041614 non-null  int64  \n",
      " 8   TransactionAmount (INR)  1041614 non-null  float64\n",
      "dtypes: float64(2), int64(1), object(6)\n",
      "memory usage: 71.5+ MB\n"
     ]
    }
   ],
   "source": [
    "df.info()"
   ]
  },
  {
   "cell_type": "code",
   "execution_count": 10,
   "id": "b3116f72-296b-4d4f-b654-358315d43ab3",
   "metadata": {},
   "outputs": [
    {
     "name": "stdout",
     "output_type": "stream",
     "text": [
      "['10/01/1994', '04/04/1957', '26/11/1996', '14/09/1973', '24/03/1988', '08/10/1972', '26/01/1992', '27/01/1982', '19/04/1988', '22/06/1984', '22/07/1982', '07/07/1988', '13/06/1978', '05/01/1992', '24/03/1978', '10/07/1968', '1/1/1800', '16/07/1989', '11/01/1991', '24/06/1985', '20/04/1993', '31/08/1989', '1/1/1800', '01/10/1986', '17/05/1991', '24/02/1993', '01/02/1986', '01/04/1993', '1/1/1800', '21/01/1967']\n"
     ]
    }
   ],
   "source": [
    "print(df[\"CustomerDOB\"].head(30).tolist())"
   ]
  },
  {
   "cell_type": "code",
   "execution_count": null,
   "id": "ff59b094-7e4f-4194-886d-37f8b661b5f5",
   "metadata": {},
   "outputs": [],
   "source": [
    "df.head()"
   ]
  },
  {
   "cell_type": "code",
   "execution_count": null,
   "id": "a798483b-bda7-45bb-a775-5e31db39a578",
   "metadata": {},
   "outputs": [],
   "source": [
    "# Convert to datetime if needed\n",
    "df[\"CustomerDOB\"] = pd.to_datetime(df[\"CustomerDOB\"], errors='coerce')\n",
    "unique_dates = df[\"CustomerDOB\"].unique()\n",
    "print(unique_dates)"
   ]
  },
  {
   "cell_type": "code",
   "execution_count": 12,
   "id": "735b45f1-f3ba-442d-b010-f14b6eafb20d",
   "metadata": {},
   "outputs": [
    {
     "name": "stdout",
     "output_type": "stream",
     "text": [
      "Number of invalid dates: 560396\n",
      "Invalid entries:\n",
      "        TransactionID CustomerID CustomerDOB CustGender   CustLocation  \\\n",
      "2                  T3   C4417068         NaT          F         MUMBAI   \n",
      "3                  T4   C5342380         NaT          F         MUMBAI   \n",
      "4                  T5   C9031234         NaT          F    NAVI MUMBAI   \n",
      "6                  T7   C7126560         NaT          F         MUMBAI   \n",
      "7                  T8   C1220223         NaT          M         MUMBAI   \n",
      "...               ...        ...         ...        ...            ...   \n",
      "1041607      T1048561   C5028150         NaT          M           PUNE   \n",
      "1041608      T1048562   C1034220         NaT          M      BANGALORE   \n",
      "1041610      T1048564   C6459278         NaT          M         NASHIK   \n",
      "1041611      T1048565   C6412354         NaT          M      HYDERABAD   \n",
      "1041612      T1048566   C6420483         NaT          M  VISAKHAPATNAM   \n",
      "\n",
      "         CustAccountBalance TransactionDate  TransactionTime  \\\n",
      "2                  17874.44      02/08/2016           142712   \n",
      "3                 866503.21      02/08/2016           142714   \n",
      "4                   6714.43      02/08/2016           181156   \n",
      "6                    973.46      02/08/2016           173806   \n",
      "7                  95075.54      02/08/2016           170537   \n",
      "...                     ...             ...              ...   \n",
      "1041607              464.87      18/09/2016           184632   \n",
      "1041608             1212.70      18/09/2016           184734   \n",
      "1041610            27311.42      18/09/2016           183734   \n",
      "1041611           221757.06      18/09/2016           183313   \n",
      "1041612            10117.87      18/09/2016           184706   \n",
      "\n",
      "         TransactionAmount (INR)  \n",
      "2                          459.0  \n",
      "3                         2060.0  \n",
      "4                         1762.5  \n",
      "6                          566.0  \n",
      "7                          148.0  \n",
      "...                          ...  \n",
      "1041607                   3000.0  \n",
      "1041608                   1500.0  \n",
      "1041610                    460.0  \n",
      "1041611                    770.0  \n",
      "1041612                   1000.0  \n",
      "\n",
      "[560396 rows x 9 columns]\n"
     ]
    }
   ],
   "source": [
    " #Check for invalid dates (NaT values)\n",
    "invalid_dates = df[df[\"CustomerDOB\"].isna()]\n",
    "print(f\"Number of invalid dates: {len(invalid_dates)}\")\n",
    "print(\"Invalid entries:\")\n",
    "print(invalid_dates)"
   ]
  },
  {
   "cell_type": "code",
   "execution_count": 13,
   "id": "7c83047e-dd33-488b-8c95-1ae82d1f5370",
   "metadata": {},
   "outputs": [
    {
     "name": "stdout",
     "output_type": "stream",
     "text": [
      "Invalid dates (NaT): 560396\n",
      "Total rows: 1041614\n",
      "Percentage invalid: 53.80%\n"
     ]
    }
   ],
   "source": [
    "# Count NaT values\n",
    "nat_count = df[\"CustomerDOB\"].isna().sum()\n",
    "total_count = len(df)\n",
    "print(f\"Invalid dates (NaT): {nat_count}\")\n",
    "print(f\"Total rows: {total_count}\")\n",
    "print(f\"Percentage invalid: {(nat_count/total_count)*100:.2f}%\")"
   ]
  },
  {
   "cell_type": "code",
   "execution_count": 11,
   "id": "ffae3529-aac6-47ac-a48c-61b7f768a38a",
   "metadata": {},
   "outputs": [
    {
     "name": "stdout",
     "output_type": "stream",
     "text": [
      "Sample of original CustomerDOB values that became NaT:\n",
      "[]\n"
     ]
    }
   ],
   "source": [
    "# Check what the original date values actually look like\n",
    "print(\"Sample of original CustomerDOB values that became NaT:\")\n",
    "original_dob_sample = df.loc[df[\"CustomerDOB\"].isna(), \"CustomerDOB\"].head(20)\n",
    "print(original_dob_sample.tolist())\n",
    "\n",
    "# Or if you have the original data before conversion, check that"
   ]
  },
  {
   "cell_type": "code",
   "execution_count": 14,
   "id": "a7f6605f-ecac-4067-952f-b208cf262f1c",
   "metadata": {},
   "outputs": [],
   "source": [
    "df[\"CustomerDOB\"] = df[\"CustomerDOB\"].bfill()"
   ]
  },
  {
   "cell_type": "code",
   "execution_count": 15,
   "id": "e7d32e76-6f1b-427f-8414-e50b62c6208c",
   "metadata": {},
   "outputs": [
    {
     "name": "stdout",
     "output_type": "stream",
     "text": [
      "<DatetimeArray>\n",
      "['1994-10-01 00:00:00', '1957-04-04 00:00:00', '1972-08-10 00:00:00',\n",
      " '1988-07-07 00:00:00', '1992-05-01 00:00:00', '1968-10-07 00:00:00',\n",
      " '1800-01-01 00:00:00', '1991-11-01 00:00:00', '1986-01-10 00:00:00',\n",
      " '1986-01-02 00:00:00',\n",
      " ...\n",
      " '1998-04-02 00:00:00', '1959-09-03 00:00:00', '1998-02-06 00:00:00',\n",
      " '1957-08-05 00:00:00', '1965-10-02 00:00:00', '2004-07-03 00:00:00',\n",
      " '1945-07-06 00:00:00', '1954-09-06 00:00:00', '1946-06-04 00:00:00',\n",
      " '1950-07-01 00:00:00']\n",
      "Length: 7061, dtype: datetime64[ns]\n"
     ]
    }
   ],
   "source": [
    "# Convert to datetime if needed\n",
    "df[\"CustomerDOB\"] = pd.to_datetime(df[\"CustomerDOB\"], errors='coerce')\n",
    "unique_dates = df[\"CustomerDOB\"].unique()\n",
    "print(unique_dates)"
   ]
  },
  {
   "cell_type": "code",
   "execution_count": 16,
   "id": "e7d924eb-863a-44b2-9362-9aabdf5c9634",
   "metadata": {},
   "outputs": [
    {
     "name": "stdout",
     "output_type": "stream",
     "text": [
      "0         1994-10-01\n",
      "1         1957-04-04\n",
      "2         1972-08-10\n",
      "3         1972-08-10\n",
      "4         1972-08-10\n",
      "             ...    \n",
      "1041609   1990-08-04\n",
      "1041610   1984-05-03\n",
      "1041611   1984-05-03\n",
      "1041612   1984-05-03\n",
      "1041613   1984-05-03\n",
      "Name: CustomerDOB, Length: 1041614, dtype: datetime64[ns]\n"
     ]
    }
   ],
   "source": [
    "# Convert to datetime \n",
    "print(df[\"CustomerDOB\"])"
   ]
  },
  {
   "cell_type": "code",
   "execution_count": 17,
   "id": "7015a3bc-9b98-4661-8c9d-16121876dd75",
   "metadata": {},
   "outputs": [
    {
     "name": "stdout",
     "output_type": "stream",
     "text": [
      "Invalid dates (NaT): 0\n",
      "Total rows: 1041614\n",
      "Percentage invalid: 0.00%\n"
     ]
    }
   ],
   "source": [
    "# Count NaT values\n",
    "nat_count = df[\"CustomerDOB\"].isna().sum()\n",
    "total_count = len(df)\n",
    "print(f\"Invalid dates (NaT): {nat_count}\")\n",
    "print(f\"Total rows: {total_count}\")\n",
    "print(f\"Percentage invalid: {(nat_count/total_count)*100:.2f}%\")"
   ]
  },
  {
   "cell_type": "code",
   "execution_count": 18,
   "id": "4a236899-e690-41c2-8120-8dfb1ba911fe",
   "metadata": {},
   "outputs": [
    {
     "data": {
      "text/html": [
       "<div>\n",
       "<style scoped>\n",
       "    .dataframe tbody tr th:only-of-type {\n",
       "        vertical-align: middle;\n",
       "    }\n",
       "\n",
       "    .dataframe tbody tr th {\n",
       "        vertical-align: top;\n",
       "    }\n",
       "\n",
       "    .dataframe thead th {\n",
       "        text-align: right;\n",
       "    }\n",
       "</style>\n",
       "<table border=\"1\" class=\"dataframe\">\n",
       "  <thead>\n",
       "    <tr style=\"text-align: right;\">\n",
       "      <th></th>\n",
       "      <th>TransactionID</th>\n",
       "      <th>CustomerID</th>\n",
       "      <th>CustomerDOB</th>\n",
       "      <th>CustGender</th>\n",
       "      <th>CustLocation</th>\n",
       "      <th>CustAccountBalance</th>\n",
       "      <th>TransactionDate</th>\n",
       "      <th>TransactionTime</th>\n",
       "      <th>TransactionAmount (INR)</th>\n",
       "    </tr>\n",
       "  </thead>\n",
       "  <tbody>\n",
       "    <tr>\n",
       "      <th>0</th>\n",
       "      <td>T1</td>\n",
       "      <td>C5841053</td>\n",
       "      <td>1994-10-01</td>\n",
       "      <td>F</td>\n",
       "      <td>JAMSHEDPUR</td>\n",
       "      <td>17819.05</td>\n",
       "      <td>02/08/2016</td>\n",
       "      <td>143207</td>\n",
       "      <td>25.0</td>\n",
       "    </tr>\n",
       "    <tr>\n",
       "      <th>1</th>\n",
       "      <td>T2</td>\n",
       "      <td>C2142763</td>\n",
       "      <td>1957-04-04</td>\n",
       "      <td>M</td>\n",
       "      <td>JHAJJAR</td>\n",
       "      <td>2270.69</td>\n",
       "      <td>02/08/2016</td>\n",
       "      <td>141858</td>\n",
       "      <td>27999.0</td>\n",
       "    </tr>\n",
       "    <tr>\n",
       "      <th>2</th>\n",
       "      <td>T3</td>\n",
       "      <td>C4417068</td>\n",
       "      <td>1972-08-10</td>\n",
       "      <td>F</td>\n",
       "      <td>MUMBAI</td>\n",
       "      <td>17874.44</td>\n",
       "      <td>02/08/2016</td>\n",
       "      <td>142712</td>\n",
       "      <td>459.0</td>\n",
       "    </tr>\n",
       "    <tr>\n",
       "      <th>3</th>\n",
       "      <td>T4</td>\n",
       "      <td>C5342380</td>\n",
       "      <td>1972-08-10</td>\n",
       "      <td>F</td>\n",
       "      <td>MUMBAI</td>\n",
       "      <td>866503.21</td>\n",
       "      <td>02/08/2016</td>\n",
       "      <td>142714</td>\n",
       "      <td>2060.0</td>\n",
       "    </tr>\n",
       "    <tr>\n",
       "      <th>4</th>\n",
       "      <td>T5</td>\n",
       "      <td>C9031234</td>\n",
       "      <td>1972-08-10</td>\n",
       "      <td>F</td>\n",
       "      <td>NAVI MUMBAI</td>\n",
       "      <td>6714.43</td>\n",
       "      <td>02/08/2016</td>\n",
       "      <td>181156</td>\n",
       "      <td>1762.5</td>\n",
       "    </tr>\n",
       "  </tbody>\n",
       "</table>\n",
       "</div>"
      ],
      "text/plain": [
       "  TransactionID CustomerID CustomerDOB CustGender CustLocation  \\\n",
       "0            T1   C5841053  1994-10-01          F   JAMSHEDPUR   \n",
       "1            T2   C2142763  1957-04-04          M      JHAJJAR   \n",
       "2            T3   C4417068  1972-08-10          F       MUMBAI   \n",
       "3            T4   C5342380  1972-08-10          F       MUMBAI   \n",
       "4            T5   C9031234  1972-08-10          F  NAVI MUMBAI   \n",
       "\n",
       "   CustAccountBalance TransactionDate  TransactionTime  \\\n",
       "0            17819.05      02/08/2016           143207   \n",
       "1             2270.69      02/08/2016           141858   \n",
       "2            17874.44      02/08/2016           142712   \n",
       "3           866503.21      02/08/2016           142714   \n",
       "4             6714.43      02/08/2016           181156   \n",
       "\n",
       "   TransactionAmount (INR)  \n",
       "0                     25.0  \n",
       "1                  27999.0  \n",
       "2                    459.0  \n",
       "3                   2060.0  \n",
       "4                   1762.5  "
      ]
     },
     "execution_count": 18,
     "metadata": {},
     "output_type": "execute_result"
    }
   ],
   "source": [
    "df.head()"
   ]
  },
  {
   "cell_type": "code",
   "execution_count": null,
   "id": "45325eaa-ffd2-4463-8006-268ef80a4743",
   "metadata": {},
   "outputs": [],
   "source": []
  }
 ],
 "metadata": {
  "kernelspec": {
   "display_name": "Python [conda env:base] *",
   "language": "python",
   "name": "conda-base-py"
  },
  "language_info": {
   "codemirror_mode": {
    "name": "ipython",
    "version": 3
   },
   "file_extension": ".py",
   "mimetype": "text/x-python",
   "name": "python",
   "nbconvert_exporter": "python",
   "pygments_lexer": "ipython3",
   "version": "3.12.7"
  }
 },
 "nbformat": 4,
 "nbformat_minor": 5
}
